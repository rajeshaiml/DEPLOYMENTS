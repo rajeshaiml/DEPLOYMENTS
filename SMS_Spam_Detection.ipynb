{
  "nbformat": 4,
  "nbformat_minor": 0,
  "metadata": {
    "colab": {
      "name": "SMS_Spam_Detection_V3.ipynb",
      "provenance": [],
      "collapsed_sections": [
        "nBQshwW5DEJ0",
        "tl1HAMulDTG5"
      ]
    },
    "kernelspec": {
      "name": "python3",
      "display_name": "Python 3"
    },
    "widgets": {
      "application/vnd.jupyter.widget-state+json": {
        "e3e0f984874b41b18094a181d3aaa2c6": {
          "model_module": "@jupyter-widgets/controls",
          "model_name": "IntProgressModel",
          "state": {
            "_view_name": "ProgressView",
            "style": "IPY_MODEL_01978fac56b643fd9fffa2cd64ba8502",
            "_dom_classes": [],
            "description": "Processing: ",
            "_model_name": "IntProgressModel",
            "bar_style": "",
            "max": 3,
            "_view_module": "@jupyter-widgets/controls",
            "_model_module_version": "1.5.0",
            "value": 3,
            "_view_count": null,
            "_view_module_version": "1.5.0",
            "orientation": "horizontal",
            "min": 0,
            "description_tooltip": null,
            "_model_module": "@jupyter-widgets/controls",
            "layout": "IPY_MODEL_3e507b8291cc4152b163515adf2f3a14"
          }
        },
        "01978fac56b643fd9fffa2cd64ba8502": {
          "model_module": "@jupyter-widgets/controls",
          "model_name": "ProgressStyleModel",
          "state": {
            "_view_name": "StyleView",
            "_model_name": "ProgressStyleModel",
            "description_width": "",
            "_view_module": "@jupyter-widgets/base",
            "_model_module_version": "1.5.0",
            "_view_count": null,
            "_view_module_version": "1.2.0",
            "bar_color": null,
            "_model_module": "@jupyter-widgets/controls"
          }
        },
        "3e507b8291cc4152b163515adf2f3a14": {
          "model_module": "@jupyter-widgets/base",
          "model_name": "LayoutModel",
          "state": {
            "_view_name": "LayoutView",
            "grid_template_rows": null,
            "right": null,
            "justify_content": null,
            "_view_module": "@jupyter-widgets/base",
            "overflow": null,
            "_model_module_version": "1.2.0",
            "_view_count": null,
            "flex_flow": null,
            "width": null,
            "min_width": null,
            "border": null,
            "align_items": null,
            "bottom": null,
            "_model_module": "@jupyter-widgets/base",
            "top": null,
            "grid_column": null,
            "overflow_y": null,
            "overflow_x": null,
            "grid_auto_flow": null,
            "grid_area": null,
            "grid_template_columns": null,
            "flex": null,
            "_model_name": "LayoutModel",
            "justify_items": null,
            "grid_row": null,
            "max_height": null,
            "align_content": null,
            "visibility": null,
            "align_self": null,
            "height": null,
            "min_height": null,
            "padding": null,
            "grid_auto_rows": null,
            "grid_gap": null,
            "max_width": null,
            "order": null,
            "_view_module_version": "1.2.0",
            "grid_template_areas": null,
            "object_position": null,
            "object_fit": null,
            "grid_auto_columns": null,
            "margin": null,
            "display": null,
            "left": null
          }
        },
        "76f643a5c26d4120b219d76c512b4def": {
          "model_module": "@jupyter-widgets/controls",
          "model_name": "TextModel",
          "state": {
            "_view_name": "TextView",
            "style": "IPY_MODEL_ea03a2d7d1fa465190068fc905abf598",
            "_dom_classes": [],
            "description": "",
            "_model_name": "TextModel",
            "placeholder": "​",
            "_view_module": "@jupyter-widgets/controls",
            "_model_module_version": "1.5.0",
            "value": "Following data types have been inferred automatically, if they are correct press enter to continue or type 'quit' otherwise.",
            "_view_count": null,
            "disabled": false,
            "_view_module_version": "1.5.0",
            "continuous_update": true,
            "description_tooltip": null,
            "_model_module": "@jupyter-widgets/controls",
            "layout": "IPY_MODEL_1e4a0780b83a4ef482c5eefa4b59e67f"
          }
        },
        "ea03a2d7d1fa465190068fc905abf598": {
          "model_module": "@jupyter-widgets/controls",
          "model_name": "DescriptionStyleModel",
          "state": {
            "_view_name": "StyleView",
            "_model_name": "DescriptionStyleModel",
            "description_width": "",
            "_view_module": "@jupyter-widgets/base",
            "_model_module_version": "1.5.0",
            "_view_count": null,
            "_view_module_version": "1.2.0",
            "_model_module": "@jupyter-widgets/controls"
          }
        },
        "1e4a0780b83a4ef482c5eefa4b59e67f": {
          "model_module": "@jupyter-widgets/base",
          "model_name": "LayoutModel",
          "state": {
            "_view_name": "LayoutView",
            "grid_template_rows": null,
            "right": null,
            "justify_content": null,
            "_view_module": "@jupyter-widgets/base",
            "overflow": null,
            "_model_module_version": "1.2.0",
            "_view_count": null,
            "flex_flow": null,
            "width": "100%",
            "min_width": null,
            "border": null,
            "align_items": null,
            "bottom": null,
            "_model_module": "@jupyter-widgets/base",
            "top": null,
            "grid_column": null,
            "overflow_y": null,
            "overflow_x": null,
            "grid_auto_flow": null,
            "grid_area": null,
            "grid_template_columns": null,
            "flex": null,
            "_model_name": "LayoutModel",
            "justify_items": null,
            "grid_row": null,
            "max_height": null,
            "align_content": null,
            "visibility": null,
            "align_self": null,
            "height": null,
            "min_height": null,
            "padding": null,
            "grid_auto_rows": null,
            "grid_gap": null,
            "max_width": null,
            "order": null,
            "_view_module_version": "1.2.0",
            "grid_template_areas": null,
            "object_position": null,
            "object_fit": null,
            "grid_auto_columns": null,
            "margin": null,
            "display": null,
            "left": null
          }
        },
        "522fae0f04e14a6087dd072dc0b517a1": {
          "model_module": "@jupyter-widgets/controls",
          "model_name": "IntProgressModel",
          "state": {
            "_view_name": "ProgressView",
            "style": "IPY_MODEL_a6c69bdad2624007af0bd5ff28435782",
            "_dom_classes": [],
            "description": "Processing: ",
            "_model_name": "IntProgressModel",
            "bar_style": "",
            "max": 79,
            "_view_module": "@jupyter-widgets/controls",
            "_model_module_version": "1.5.0",
            "value": 79,
            "_view_count": null,
            "_view_module_version": "1.5.0",
            "orientation": "horizontal",
            "min": 0,
            "description_tooltip": null,
            "_model_module": "@jupyter-widgets/controls",
            "layout": "IPY_MODEL_beac73464d48402da822b54a8429a357"
          }
        },
        "a6c69bdad2624007af0bd5ff28435782": {
          "model_module": "@jupyter-widgets/controls",
          "model_name": "ProgressStyleModel",
          "state": {
            "_view_name": "StyleView",
            "_model_name": "ProgressStyleModel",
            "description_width": "",
            "_view_module": "@jupyter-widgets/base",
            "_model_module_version": "1.5.0",
            "_view_count": null,
            "_view_module_version": "1.2.0",
            "bar_color": null,
            "_model_module": "@jupyter-widgets/controls"
          }
        },
        "beac73464d48402da822b54a8429a357": {
          "model_module": "@jupyter-widgets/base",
          "model_name": "LayoutModel",
          "state": {
            "_view_name": "LayoutView",
            "grid_template_rows": null,
            "right": null,
            "justify_content": null,
            "_view_module": "@jupyter-widgets/base",
            "overflow": null,
            "_model_module_version": "1.2.0",
            "_view_count": null,
            "flex_flow": null,
            "width": null,
            "min_width": null,
            "border": null,
            "align_items": null,
            "bottom": null,
            "_model_module": "@jupyter-widgets/base",
            "top": null,
            "grid_column": null,
            "overflow_y": null,
            "overflow_x": null,
            "grid_auto_flow": null,
            "grid_area": null,
            "grid_template_columns": null,
            "flex": null,
            "_model_name": "LayoutModel",
            "justify_items": null,
            "grid_row": null,
            "max_height": null,
            "align_content": null,
            "visibility": null,
            "align_self": null,
            "height": null,
            "min_height": null,
            "padding": null,
            "grid_auto_rows": null,
            "grid_gap": null,
            "max_width": null,
            "order": null,
            "_view_module_version": "1.2.0",
            "grid_template_areas": null,
            "object_position": null,
            "object_fit": null,
            "grid_auto_columns": null,
            "margin": null,
            "display": null,
            "left": null
          }
        },
        "73881e504305488ba88c4f1ace2a7953": {
          "model_module": "@jupyter-widgets/controls",
          "model_name": "IntProgressModel",
          "state": {
            "_view_name": "ProgressView",
            "style": "IPY_MODEL_2926b9a2da2b44b6a66e4e12efbf4575",
            "_dom_classes": [],
            "description": "Processing: ",
            "_model_name": "IntProgressModel",
            "bar_style": "",
            "max": 4,
            "_view_module": "@jupyter-widgets/controls",
            "_model_module_version": "1.5.0",
            "value": 4,
            "_view_count": null,
            "_view_module_version": "1.5.0",
            "orientation": "horizontal",
            "min": 0,
            "description_tooltip": null,
            "_model_module": "@jupyter-widgets/controls",
            "layout": "IPY_MODEL_8e1a7064dfc5443abf6016f5a4f80ca2"
          }
        },
        "2926b9a2da2b44b6a66e4e12efbf4575": {
          "model_module": "@jupyter-widgets/controls",
          "model_name": "ProgressStyleModel",
          "state": {
            "_view_name": "StyleView",
            "_model_name": "ProgressStyleModel",
            "description_width": "",
            "_view_module": "@jupyter-widgets/base",
            "_model_module_version": "1.5.0",
            "_view_count": null,
            "_view_module_version": "1.2.0",
            "bar_color": null,
            "_model_module": "@jupyter-widgets/controls"
          }
        },
        "8e1a7064dfc5443abf6016f5a4f80ca2": {
          "model_module": "@jupyter-widgets/base",
          "model_name": "LayoutModel",
          "state": {
            "_view_name": "LayoutView",
            "grid_template_rows": null,
            "right": null,
            "justify_content": null,
            "_view_module": "@jupyter-widgets/base",
            "overflow": null,
            "_model_module_version": "1.2.0",
            "_view_count": null,
            "flex_flow": null,
            "width": null,
            "min_width": null,
            "border": null,
            "align_items": null,
            "bottom": null,
            "_model_module": "@jupyter-widgets/base",
            "top": null,
            "grid_column": null,
            "overflow_y": null,
            "overflow_x": null,
            "grid_auto_flow": null,
            "grid_area": null,
            "grid_template_columns": null,
            "flex": null,
            "_model_name": "LayoutModel",
            "justify_items": null,
            "grid_row": null,
            "max_height": null,
            "align_content": null,
            "visibility": null,
            "align_self": null,
            "height": null,
            "min_height": null,
            "padding": null,
            "grid_auto_rows": null,
            "grid_gap": null,
            "max_width": null,
            "order": null,
            "_view_module_version": "1.2.0",
            "grid_template_areas": null,
            "object_position": null,
            "object_fit": null,
            "grid_auto_columns": null,
            "margin": null,
            "display": null,
            "left": null
          }
        },
        "b6c9d9618e0b4a7aa4643445b1405681": {
          "model_module": "@jupyter-widgets/controls",
          "model_name": "VBoxModel",
          "state": {
            "_view_name": "VBoxView",
            "_dom_classes": [
              "widget-interact"
            ],
            "_model_name": "VBoxModel",
            "_view_module": "@jupyter-widgets/controls",
            "_model_module_version": "1.5.0",
            "_view_count": null,
            "_view_module_version": "1.5.0",
            "box_style": "",
            "layout": "IPY_MODEL_fa2b3319389348cabd3eae03b584fc14",
            "_model_module": "@jupyter-widgets/controls",
            "children": [
              "IPY_MODEL_bc7a0b3c094a4d1db70a79c122adf430",
              "IPY_MODEL_dce6e68ba68e44e3b0de65b400cd404b"
            ]
          }
        },
        "fa2b3319389348cabd3eae03b584fc14": {
          "model_module": "@jupyter-widgets/base",
          "model_name": "LayoutModel",
          "state": {
            "_view_name": "LayoutView",
            "grid_template_rows": null,
            "right": null,
            "justify_content": null,
            "_view_module": "@jupyter-widgets/base",
            "overflow": null,
            "_model_module_version": "1.2.0",
            "_view_count": null,
            "flex_flow": null,
            "width": null,
            "min_width": null,
            "border": null,
            "align_items": null,
            "bottom": null,
            "_model_module": "@jupyter-widgets/base",
            "top": null,
            "grid_column": null,
            "overflow_y": null,
            "overflow_x": null,
            "grid_auto_flow": null,
            "grid_area": null,
            "grid_template_columns": null,
            "flex": null,
            "_model_name": "LayoutModel",
            "justify_items": null,
            "grid_row": null,
            "max_height": null,
            "align_content": null,
            "visibility": null,
            "align_self": null,
            "height": null,
            "min_height": null,
            "padding": null,
            "grid_auto_rows": null,
            "grid_gap": null,
            "max_width": null,
            "order": null,
            "_view_module_version": "1.2.0",
            "grid_template_areas": null,
            "object_position": null,
            "object_fit": null,
            "grid_auto_columns": null,
            "margin": null,
            "display": null,
            "left": null
          }
        },
        "bc7a0b3c094a4d1db70a79c122adf430": {
          "model_module": "@jupyter-widgets/controls",
          "model_name": "ToggleButtonsModel",
          "state": {
            "_options_labels": [
              "Hyperparameters",
              "AUC",
              "Confusion Matrix",
              "Threshold",
              "Precision Recall",
              "Prediction Error",
              "Class Report",
              "Feature Selection",
              "Learning Curve",
              "Manifold Learning",
              "Calibration Curve",
              "Validation Curve",
              "Dimensions",
              "Feature Importance",
              "Feature Importance (All)",
              "Decision Boundary",
              "Lift Chart",
              "Gain Chart",
              "Decision Tree"
            ],
            "_view_name": "ToggleButtonsView",
            "style": "IPY_MODEL_c15a4393c4e14651a5be107d0da172be",
            "_dom_classes": [],
            "description": "Plot Type:",
            "_model_name": "ToggleButtonsModel",
            "tooltips": [],
            "index": 1,
            "button_style": "",
            "_view_module": "@jupyter-widgets/controls",
            "_model_module_version": "1.5.0",
            "_view_count": null,
            "disabled": false,
            "_view_module_version": "1.5.0",
            "icons": [
              ""
            ],
            "description_tooltip": null,
            "_model_module": "@jupyter-widgets/controls",
            "layout": "IPY_MODEL_381e4281156f49b1b997a5a979d1f418"
          }
        },
        "dce6e68ba68e44e3b0de65b400cd404b": {
          "model_module": "@jupyter-widgets/output",
          "model_name": "OutputModel",
          "state": {
            "_view_name": "OutputView",
            "msg_id": "",
            "_dom_classes": [],
            "_model_name": "OutputModel",
            "outputs": [
              {
                "output_type": "display_data",
                "metadata": {
                  "tags": []
                },
                "image/png": "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\n",
                "text/plain": "<Figure size 576x396 with 1 Axes>"
              }
            ],
            "_view_module": "@jupyter-widgets/output",
            "_model_module_version": "1.0.0",
            "_view_count": null,
            "_view_module_version": "1.0.0",
            "layout": "IPY_MODEL_5441aee92e9f44b48f8c33497a63c071",
            "_model_module": "@jupyter-widgets/output"
          }
        },
        "c15a4393c4e14651a5be107d0da172be": {
          "model_module": "@jupyter-widgets/controls",
          "model_name": "ToggleButtonsStyleModel",
          "state": {
            "_view_name": "StyleView",
            "button_width": "",
            "_model_name": "ToggleButtonsStyleModel",
            "description_width": "",
            "_view_module": "@jupyter-widgets/base",
            "_model_module_version": "1.5.0",
            "_view_count": null,
            "font_weight": "",
            "_view_module_version": "1.2.0",
            "_model_module": "@jupyter-widgets/controls"
          }
        },
        "381e4281156f49b1b997a5a979d1f418": {
          "model_module": "@jupyter-widgets/base",
          "model_name": "LayoutModel",
          "state": {
            "_view_name": "LayoutView",
            "grid_template_rows": null,
            "right": null,
            "justify_content": null,
            "_view_module": "@jupyter-widgets/base",
            "overflow": null,
            "_model_module_version": "1.2.0",
            "_view_count": null,
            "flex_flow": null,
            "width": null,
            "min_width": null,
            "border": null,
            "align_items": null,
            "bottom": null,
            "_model_module": "@jupyter-widgets/base",
            "top": null,
            "grid_column": null,
            "overflow_y": null,
            "overflow_x": null,
            "grid_auto_flow": null,
            "grid_area": null,
            "grid_template_columns": null,
            "flex": null,
            "_model_name": "LayoutModel",
            "justify_items": null,
            "grid_row": null,
            "max_height": null,
            "align_content": null,
            "visibility": null,
            "align_self": null,
            "height": null,
            "min_height": null,
            "padding": null,
            "grid_auto_rows": null,
            "grid_gap": null,
            "max_width": null,
            "order": null,
            "_view_module_version": "1.2.0",
            "grid_template_areas": null,
            "object_position": null,
            "object_fit": null,
            "grid_auto_columns": null,
            "margin": null,
            "display": null,
            "left": null
          }
        },
        "c0cce79e4b5841d6b053aa41875f1a64": {
          "model_module": "@jupyter-widgets/controls",
          "model_name": "IntProgressModel",
          "state": {
            "_view_name": "ProgressView",
            "style": "IPY_MODEL_bac8eb6a88f6438a819becc653903e72",
            "_dom_classes": [],
            "description": "Processing: ",
            "_model_name": "IntProgressModel",
            "bar_style": "",
            "max": 5,
            "_view_module": "@jupyter-widgets/controls",
            "_model_module_version": "1.5.0",
            "value": 3,
            "_view_count": null,
            "_view_module_version": "1.5.0",
            "orientation": "horizontal",
            "min": 0,
            "description_tooltip": null,
            "_model_module": "@jupyter-widgets/controls",
            "layout": "IPY_MODEL_bd9570b68ed64051a1146a98439ee996"
          }
        },
        "5441aee92e9f44b48f8c33497a63c071": {
          "model_module": "@jupyter-widgets/base",
          "model_name": "LayoutModel",
          "state": {
            "_view_name": "LayoutView",
            "grid_template_rows": null,
            "right": null,
            "justify_content": null,
            "_view_module": "@jupyter-widgets/base",
            "overflow": null,
            "_model_module_version": "1.2.0",
            "_view_count": null,
            "flex_flow": null,
            "width": null,
            "min_width": null,
            "border": null,
            "align_items": null,
            "bottom": null,
            "_model_module": "@jupyter-widgets/base",
            "top": null,
            "grid_column": null,
            "overflow_y": null,
            "overflow_x": null,
            "grid_auto_flow": null,
            "grid_area": null,
            "grid_template_columns": null,
            "flex": null,
            "_model_name": "LayoutModel",
            "justify_items": null,
            "grid_row": null,
            "max_height": null,
            "align_content": null,
            "visibility": null,
            "align_self": null,
            "height": null,
            "min_height": null,
            "padding": null,
            "grid_auto_rows": null,
            "grid_gap": null,
            "max_width": null,
            "order": null,
            "_view_module_version": "1.2.0",
            "grid_template_areas": null,
            "object_position": null,
            "object_fit": null,
            "grid_auto_columns": null,
            "margin": null,
            "display": null,
            "left": null
          }
        },
        "bac8eb6a88f6438a819becc653903e72": {
          "model_module": "@jupyter-widgets/controls",
          "model_name": "ProgressStyleModel",
          "state": {
            "_view_name": "StyleView",
            "_model_name": "ProgressStyleModel",
            "description_width": "",
            "_view_module": "@jupyter-widgets/base",
            "_model_module_version": "1.5.0",
            "_view_count": null,
            "_view_module_version": "1.2.0",
            "bar_color": null,
            "_model_module": "@jupyter-widgets/controls"
          }
        },
        "bd9570b68ed64051a1146a98439ee996": {
          "model_module": "@jupyter-widgets/base",
          "model_name": "LayoutModel",
          "state": {
            "_view_name": "LayoutView",
            "grid_template_rows": null,
            "right": null,
            "justify_content": null,
            "_view_module": "@jupyter-widgets/base",
            "overflow": null,
            "_model_module_version": "1.2.0",
            "_view_count": null,
            "flex_flow": null,
            "width": null,
            "min_width": null,
            "border": null,
            "align_items": null,
            "bottom": null,
            "_model_module": "@jupyter-widgets/base",
            "top": null,
            "grid_column": null,
            "overflow_y": null,
            "overflow_x": null,
            "grid_auto_flow": null,
            "grid_area": null,
            "grid_template_columns": null,
            "flex": null,
            "_model_name": "LayoutModel",
            "justify_items": null,
            "grid_row": null,
            "max_height": null,
            "align_content": null,
            "visibility": null,
            "align_self": null,
            "height": null,
            "min_height": null,
            "padding": null,
            "grid_auto_rows": null,
            "grid_gap": null,
            "max_width": null,
            "order": null,
            "_view_module_version": "1.2.0",
            "grid_template_areas": null,
            "object_position": null,
            "object_fit": null,
            "grid_auto_columns": null,
            "margin": null,
            "display": null,
            "left": null
          }
        },
        "bca0a10818f049e1abc2fc3f7853ef90": {
          "model_module": "@jupyter-widgets/controls",
          "model_name": "IntProgressModel",
          "state": {
            "_view_name": "ProgressView",
            "style": "IPY_MODEL_6dca77f29f5a4efd9b96a079a6d616db",
            "_dom_classes": [],
            "description": "Processing: ",
            "_model_name": "IntProgressModel",
            "bar_style": "",
            "max": 5,
            "_view_module": "@jupyter-widgets/controls",
            "_model_module_version": "1.5.0",
            "value": 5,
            "_view_count": null,
            "_view_module_version": "1.5.0",
            "orientation": "horizontal",
            "min": 0,
            "description_tooltip": null,
            "_model_module": "@jupyter-widgets/controls",
            "layout": "IPY_MODEL_54b18087804649ae9bf75e35d26b2de4"
          }
        },
        "6dca77f29f5a4efd9b96a079a6d616db": {
          "model_module": "@jupyter-widgets/controls",
          "model_name": "ProgressStyleModel",
          "state": {
            "_view_name": "StyleView",
            "_model_name": "ProgressStyleModel",
            "description_width": "",
            "_view_module": "@jupyter-widgets/base",
            "_model_module_version": "1.5.0",
            "_view_count": null,
            "_view_module_version": "1.2.0",
            "bar_color": null,
            "_model_module": "@jupyter-widgets/controls"
          }
        },
        "54b18087804649ae9bf75e35d26b2de4": {
          "model_module": "@jupyter-widgets/base",
          "model_name": "LayoutModel",
          "state": {
            "_view_name": "LayoutView",
            "grid_template_rows": null,
            "right": null,
            "justify_content": null,
            "_view_module": "@jupyter-widgets/base",
            "overflow": null,
            "_model_module_version": "1.2.0",
            "_view_count": null,
            "flex_flow": null,
            "width": null,
            "min_width": null,
            "border": null,
            "align_items": null,
            "bottom": null,
            "_model_module": "@jupyter-widgets/base",
            "top": null,
            "grid_column": null,
            "overflow_y": null,
            "overflow_x": null,
            "grid_auto_flow": null,
            "grid_area": null,
            "grid_template_columns": null,
            "flex": null,
            "_model_name": "LayoutModel",
            "justify_items": null,
            "grid_row": null,
            "max_height": null,
            "align_content": null,
            "visibility": null,
            "align_self": null,
            "height": null,
            "min_height": null,
            "padding": null,
            "grid_auto_rows": null,
            "grid_gap": null,
            "max_width": null,
            "order": null,
            "_view_module_version": "1.2.0",
            "grid_template_areas": null,
            "object_position": null,
            "object_fit": null,
            "grid_auto_columns": null,
            "margin": null,
            "display": null,
            "left": null
          }
        },
        "d215c65207ef4b7e816c60ac8db1e622": {
          "model_module": "@jupyter-widgets/controls",
          "model_name": "IntProgressModel",
          "state": {
            "_view_name": "ProgressView",
            "style": "IPY_MODEL_42603e85b6104a2a8de3d1822440b723",
            "_dom_classes": [],
            "description": "Processing: ",
            "_model_name": "IntProgressModel",
            "bar_style": "",
            "max": 5,
            "_view_module": "@jupyter-widgets/controls",
            "_model_module_version": "1.5.0",
            "value": 5,
            "_view_count": null,
            "_view_module_version": "1.5.0",
            "orientation": "horizontal",
            "min": 0,
            "description_tooltip": null,
            "_model_module": "@jupyter-widgets/controls",
            "layout": "IPY_MODEL_ddb73c55cb934554afa9d4a71820d4f6"
          }
        },
        "42603e85b6104a2a8de3d1822440b723": {
          "model_module": "@jupyter-widgets/controls",
          "model_name": "ProgressStyleModel",
          "state": {
            "_view_name": "StyleView",
            "_model_name": "ProgressStyleModel",
            "description_width": "",
            "_view_module": "@jupyter-widgets/base",
            "_model_module_version": "1.5.0",
            "_view_count": null,
            "_view_module_version": "1.2.0",
            "bar_color": null,
            "_model_module": "@jupyter-widgets/controls"
          }
        },
        "ddb73c55cb934554afa9d4a71820d4f6": {
          "model_module": "@jupyter-widgets/base",
          "model_name": "LayoutModel",
          "state": {
            "_view_name": "LayoutView",
            "grid_template_rows": null,
            "right": null,
            "justify_content": null,
            "_view_module": "@jupyter-widgets/base",
            "overflow": null,
            "_model_module_version": "1.2.0",
            "_view_count": null,
            "flex_flow": null,
            "width": null,
            "min_width": null,
            "border": null,
            "align_items": null,
            "bottom": null,
            "_model_module": "@jupyter-widgets/base",
            "top": null,
            "grid_column": null,
            "overflow_y": null,
            "overflow_x": null,
            "grid_auto_flow": null,
            "grid_area": null,
            "grid_template_columns": null,
            "flex": null,
            "_model_name": "LayoutModel",
            "justify_items": null,
            "grid_row": null,
            "max_height": null,
            "align_content": null,
            "visibility": null,
            "align_self": null,
            "height": null,
            "min_height": null,
            "padding": null,
            "grid_auto_rows": null,
            "grid_gap": null,
            "max_width": null,
            "order": null,
            "_view_module_version": "1.2.0",
            "grid_template_areas": null,
            "object_position": null,
            "object_fit": null,
            "grid_auto_columns": null,
            "margin": null,
            "display": null,
            "left": null
          }
        }
      }
    }
  },
  "cells": [
    {
      "cell_type": "markdown",
      "metadata": {
        "id": "4_ST3poXCEoQ"
      },
      "source": [
        "# SMS SPAM Detection Coding Test"
      ]
    },
    {
      "cell_type": "code",
      "metadata": {
        "colab": {
          "base_uri": "https://localhost:8080/"
        },
        "id": "7ydDak2_8UuH",
        "outputId": "448f433b-e0bf-460a-eb06-a7e712d2d657"
      },
      "source": [
        "from datetime import datetime\r\n",
        "start_datetime = datetime.now()\r\n",
        "print(\"Start time of the execution: \", start_datetime)"
      ],
      "execution_count": 1,
      "outputs": [
        {
          "output_type": "stream",
          "text": [
            "Start time of the execution:  2021-01-21 09:33:36.426419\n"
          ],
          "name": "stdout"
        }
      ]
    },
    {
      "cell_type": "markdown",
      "metadata": {
        "id": "EyLSCSZLCjwb"
      },
      "source": [
        "## Import Libraries"
      ]
    },
    {
      "cell_type": "code",
      "metadata": {
        "id": "GyR6rs8O-OPu"
      },
      "source": [
        "import pandas as pd\r\n",
        "import numpy as np\r\n",
        "import matplotlib.pyplot as plt\r\n",
        "import seaborn as sns\r\n",
        "import re\r\n",
        "import nltk\r\n",
        "from sklearn.model_selection import train_test_split\r\n",
        "from sklearn.naive_bayes import MultinomialNB\r\n",
        "from sklearn.metrics import confusion_matrix, accuracy_score\r\n",
        "import pickle"
      ],
      "execution_count": 2,
      "outputs": []
    },
    {
      "cell_type": "code",
      "metadata": {
        "colab": {
          "base_uri": "https://localhost:8080/"
        },
        "id": "LtZOKf-06BbS",
        "outputId": "c819ad40-c7d2-4308-837e-8100e25c5ff7"
      },
      "source": [
        "nltk.download('stopwords')"
      ],
      "execution_count": 3,
      "outputs": [
        {
          "output_type": "stream",
          "text": [
            "[nltk_data] Downloading package stopwords to /root/nltk_data...\n",
            "[nltk_data]   Unzipping corpora/stopwords.zip.\n"
          ],
          "name": "stdout"
        },
        {
          "output_type": "execute_result",
          "data": {
            "text/plain": [
              "True"
            ]
          },
          "metadata": {
            "tags": []
          },
          "execution_count": 3
        }
      ]
    },
    {
      "cell_type": "code",
      "metadata": {
        "colab": {
          "base_uri": "https://localhost:8080/"
        },
        "id": "Ljas9cIc7YBj",
        "outputId": "4e0e9bca-0982-4e84-b987-1799dfeb1944"
      },
      "source": [
        "nltk.download('wordnet')"
      ],
      "execution_count": 4,
      "outputs": [
        {
          "output_type": "stream",
          "text": [
            "[nltk_data] Downloading package wordnet to /root/nltk_data...\n",
            "[nltk_data]   Unzipping corpora/wordnet.zip.\n"
          ],
          "name": "stdout"
        },
        {
          "output_type": "execute_result",
          "data": {
            "text/plain": [
              "True"
            ]
          },
          "metadata": {
            "tags": []
          },
          "execution_count": 4
        }
      ]
    },
    {
      "cell_type": "code",
      "metadata": {
        "id": "ez4UUy1x6BP2"
      },
      "source": [
        "from nltk.corpus import stopwords\r\n",
        "from nltk.stem.porter import PorterStemmer\r\n",
        "from nltk.stem import WordNetLemmatizer"
      ],
      "execution_count": 5,
      "outputs": []
    },
    {
      "cell_type": "code",
      "metadata": {
        "id": "jfUR6Iz-ta6V"
      },
      "source": [
        "import tensorflow as tf\r\n",
        "from keras.preprocessing.text import Tokenizer\r\n",
        "from keras.preprocessing.sequence import pad_sequences\r\n",
        "from tensorflow.keras.regularizers import l1\r\n",
        "from keras.models import Sequential\r\n",
        "from keras.layers import Embedding,LSTM,Dense,SpatialDropout1D\r\n",
        "from keras.initializers import Constant\r\n",
        "from keras.optimizers import Adam\r\n",
        "from tqdm import tqdm"
      ],
      "execution_count": 6,
      "outputs": []
    },
    {
      "cell_type": "markdown",
      "metadata": {
        "id": "v8F_M7rUCr36"
      },
      "source": [
        "## Load the data"
      ]
    },
    {
      "cell_type": "code",
      "metadata": {
        "colab": {
          "base_uri": "https://localhost:8080/"
        },
        "id": "UFdwbNJm87qC",
        "outputId": "68d30f3b-85f6-4974-e463-19aa0c7864ea"
      },
      "source": [
        "from google.colab import drive\r\n",
        "drive.mount('/content/drive')"
      ],
      "execution_count": 7,
      "outputs": [
        {
          "output_type": "stream",
          "text": [
            "Mounted at /content/drive\n"
          ],
          "name": "stdout"
        }
      ]
    },
    {
      "cell_type": "code",
      "metadata": {
        "id": "WDIWO_JZ-U89"
      },
      "source": [
        "data = pd.read_csv('/content/drive/MyDrive/PWC/spam.csv',encoding='latin-1')\r\n",
        "\r\n",
        "#Got below error without encoding to latin-1, hence we need to encode the file before loading\r\n",
        "#UnicodeDecodeError: 'utf-8' codec can't decode bytes in position 135-136: invalid continuation byte\r\n",
        "#https://stackoverflow.com/questions/5552555/unicodedecodeerror-invalid-continuation-byte"
      ],
      "execution_count": 10,
      "outputs": []
    },
    {
      "cell_type": "markdown",
      "metadata": {
        "id": "nBQshwW5DEJ0"
      },
      "source": [
        "## Data analysis"
      ]
    },
    {
      "cell_type": "code",
      "metadata": {
        "colab": {
          "base_uri": "https://localhost:8080/"
        },
        "id": "g9r2FaiM_GJu",
        "outputId": "d7ee7772-acb5-4a65-f25d-d47208065845"
      },
      "source": [
        "data.shape\r\n"
      ],
      "execution_count": 11,
      "outputs": [
        {
          "output_type": "execute_result",
          "data": {
            "text/plain": [
              "(5572, 5)"
            ]
          },
          "metadata": {
            "tags": []
          },
          "execution_count": 11
        }
      ]
    },
    {
      "cell_type": "code",
      "metadata": {
        "colab": {
          "base_uri": "https://localhost:8080/"
        },
        "id": "bGP83EOx_Rh2",
        "outputId": "35f07d03-9b2c-43c4-bee1-9c83c8ea25a2"
      },
      "source": [
        "data.columns"
      ],
      "execution_count": 12,
      "outputs": [
        {
          "output_type": "execute_result",
          "data": {
            "text/plain": [
              "Index(['v1', 'v2', 'Unnamed: 2', 'Unnamed: 3', 'Unnamed: 4'], dtype='object')"
            ]
          },
          "metadata": {
            "tags": []
          },
          "execution_count": 12
        }
      ]
    },
    {
      "cell_type": "code",
      "metadata": {
        "colab": {
          "base_uri": "https://localhost:8080/",
          "height": 0
        },
        "id": "ilkN_Hhj_VxB",
        "outputId": "3bd3f19f-b684-46ad-abba-a6888088d2bc"
      },
      "source": [
        "data.describe()"
      ],
      "execution_count": 13,
      "outputs": [
        {
          "output_type": "execute_result",
          "data": {
            "text/html": [
              "<div>\n",
              "<style scoped>\n",
              "    .dataframe tbody tr th:only-of-type {\n",
              "        vertical-align: middle;\n",
              "    }\n",
              "\n",
              "    .dataframe tbody tr th {\n",
              "        vertical-align: top;\n",
              "    }\n",
              "\n",
              "    .dataframe thead th {\n",
              "        text-align: right;\n",
              "    }\n",
              "</style>\n",
              "<table border=\"1\" class=\"dataframe\">\n",
              "  <thead>\n",
              "    <tr style=\"text-align: right;\">\n",
              "      <th></th>\n",
              "      <th>v1</th>\n",
              "      <th>v2</th>\n",
              "      <th>Unnamed: 2</th>\n",
              "      <th>Unnamed: 3</th>\n",
              "      <th>Unnamed: 4</th>\n",
              "    </tr>\n",
              "  </thead>\n",
              "  <tbody>\n",
              "    <tr>\n",
              "      <th>count</th>\n",
              "      <td>5572</td>\n",
              "      <td>5572</td>\n",
              "      <td>50</td>\n",
              "      <td>12</td>\n",
              "      <td>6</td>\n",
              "    </tr>\n",
              "    <tr>\n",
              "      <th>unique</th>\n",
              "      <td>2</td>\n",
              "      <td>5169</td>\n",
              "      <td>43</td>\n",
              "      <td>10</td>\n",
              "      <td>5</td>\n",
              "    </tr>\n",
              "    <tr>\n",
              "      <th>top</th>\n",
              "      <td>ham</td>\n",
              "      <td>Sorry, I'll call later</td>\n",
              "      <td>bt not his girlfrnd... G o o d n i g h t . . .@\"</td>\n",
              "      <td>MK17 92H. 450Ppw 16\"</td>\n",
              "      <td>GNT:-)\"</td>\n",
              "    </tr>\n",
              "    <tr>\n",
              "      <th>freq</th>\n",
              "      <td>4825</td>\n",
              "      <td>30</td>\n",
              "      <td>3</td>\n",
              "      <td>2</td>\n",
              "      <td>2</td>\n",
              "    </tr>\n",
              "  </tbody>\n",
              "</table>\n",
              "</div>"
            ],
            "text/plain": [
              "          v1                      v2  ...             Unnamed: 3 Unnamed: 4\n",
              "count   5572                    5572  ...                     12          6\n",
              "unique     2                    5169  ...                     10          5\n",
              "top      ham  Sorry, I'll call later  ...   MK17 92H. 450Ppw 16\"    GNT:-)\"\n",
              "freq    4825                      30  ...                      2          2\n",
              "\n",
              "[4 rows x 5 columns]"
            ]
          },
          "metadata": {
            "tags": []
          },
          "execution_count": 13
        }
      ]
    },
    {
      "cell_type": "code",
      "metadata": {
        "colab": {
          "base_uri": "https://localhost:8080/",
          "height": 0
        },
        "id": "Fg-qVq-P_Hqp",
        "outputId": "8a1989ce-bb54-4fe5-bafd-d725f6f882e8"
      },
      "source": [
        "data.head()"
      ],
      "execution_count": 14,
      "outputs": [
        {
          "output_type": "execute_result",
          "data": {
            "text/html": [
              "<div>\n",
              "<style scoped>\n",
              "    .dataframe tbody tr th:only-of-type {\n",
              "        vertical-align: middle;\n",
              "    }\n",
              "\n",
              "    .dataframe tbody tr th {\n",
              "        vertical-align: top;\n",
              "    }\n",
              "\n",
              "    .dataframe thead th {\n",
              "        text-align: right;\n",
              "    }\n",
              "</style>\n",
              "<table border=\"1\" class=\"dataframe\">\n",
              "  <thead>\n",
              "    <tr style=\"text-align: right;\">\n",
              "      <th></th>\n",
              "      <th>v1</th>\n",
              "      <th>v2</th>\n",
              "      <th>Unnamed: 2</th>\n",
              "      <th>Unnamed: 3</th>\n",
              "      <th>Unnamed: 4</th>\n",
              "    </tr>\n",
              "  </thead>\n",
              "  <tbody>\n",
              "    <tr>\n",
              "      <th>0</th>\n",
              "      <td>ham</td>\n",
              "      <td>Go until jurong point, crazy.. Available only ...</td>\n",
              "      <td>NaN</td>\n",
              "      <td>NaN</td>\n",
              "      <td>NaN</td>\n",
              "    </tr>\n",
              "    <tr>\n",
              "      <th>1</th>\n",
              "      <td>ham</td>\n",
              "      <td>Ok lar... Joking wif u oni...</td>\n",
              "      <td>NaN</td>\n",
              "      <td>NaN</td>\n",
              "      <td>NaN</td>\n",
              "    </tr>\n",
              "    <tr>\n",
              "      <th>2</th>\n",
              "      <td>spam</td>\n",
              "      <td>Free entry in 2 a wkly comp to win FA Cup fina...</td>\n",
              "      <td>NaN</td>\n",
              "      <td>NaN</td>\n",
              "      <td>NaN</td>\n",
              "    </tr>\n",
              "    <tr>\n",
              "      <th>3</th>\n",
              "      <td>ham</td>\n",
              "      <td>U dun say so early hor... U c already then say...</td>\n",
              "      <td>NaN</td>\n",
              "      <td>NaN</td>\n",
              "      <td>NaN</td>\n",
              "    </tr>\n",
              "    <tr>\n",
              "      <th>4</th>\n",
              "      <td>ham</td>\n",
              "      <td>Nah I don't think he goes to usf, he lives aro...</td>\n",
              "      <td>NaN</td>\n",
              "      <td>NaN</td>\n",
              "      <td>NaN</td>\n",
              "    </tr>\n",
              "  </tbody>\n",
              "</table>\n",
              "</div>"
            ],
            "text/plain": [
              "     v1  ... Unnamed: 4\n",
              "0   ham  ...        NaN\n",
              "1   ham  ...        NaN\n",
              "2  spam  ...        NaN\n",
              "3   ham  ...        NaN\n",
              "4   ham  ...        NaN\n",
              "\n",
              "[5 rows x 5 columns]"
            ]
          },
          "metadata": {
            "tags": []
          },
          "execution_count": 14
        }
      ]
    },
    {
      "cell_type": "markdown",
      "metadata": {
        "id": "pDUqHnkG_QIP"
      },
      "source": [
        "Looks unnamed columns doesn't give much information, hence drop these columns"
      ]
    },
    {
      "cell_type": "code",
      "metadata": {
        "id": "vSKDFc_B_M7z"
      },
      "source": [
        "data.drop(labels=['Unnamed: 2','Unnamed: 3','Unnamed: 4'], axis=1, inplace=True)"
      ],
      "execution_count": 15,
      "outputs": []
    },
    {
      "cell_type": "code",
      "metadata": {
        "colab": {
          "base_uri": "https://localhost:8080/"
        },
        "id": "RIMyhMkuAG6q",
        "outputId": "472ff3a4-94a9-4acc-dcea-d7b26f2ac55c"
      },
      "source": [
        "data.shape"
      ],
      "execution_count": 16,
      "outputs": [
        {
          "output_type": "execute_result",
          "data": {
            "text/plain": [
              "(5572, 2)"
            ]
          },
          "metadata": {
            "tags": []
          },
          "execution_count": 16
        }
      ]
    },
    {
      "cell_type": "code",
      "metadata": {
        "colab": {
          "base_uri": "https://localhost:8080/"
        },
        "id": "4wOFhLOuAQHw",
        "outputId": "0dc99916-b5c6-47e6-e90a-6ec107a19e28"
      },
      "source": [
        "data.columns"
      ],
      "execution_count": 17,
      "outputs": [
        {
          "output_type": "execute_result",
          "data": {
            "text/plain": [
              "Index(['v1', 'v2'], dtype='object')"
            ]
          },
          "metadata": {
            "tags": []
          },
          "execution_count": 17
        }
      ]
    },
    {
      "cell_type": "code",
      "metadata": {
        "colab": {
          "base_uri": "https://localhost:8080/",
          "height": 0
        },
        "id": "xn1m3cNwATH5",
        "outputId": "7e2748de-931f-4d1a-844f-ae6e02bc52e5"
      },
      "source": [
        "data.head(2)"
      ],
      "execution_count": 18,
      "outputs": [
        {
          "output_type": "execute_result",
          "data": {
            "text/html": [
              "<div>\n",
              "<style scoped>\n",
              "    .dataframe tbody tr th:only-of-type {\n",
              "        vertical-align: middle;\n",
              "    }\n",
              "\n",
              "    .dataframe tbody tr th {\n",
              "        vertical-align: top;\n",
              "    }\n",
              "\n",
              "    .dataframe thead th {\n",
              "        text-align: right;\n",
              "    }\n",
              "</style>\n",
              "<table border=\"1\" class=\"dataframe\">\n",
              "  <thead>\n",
              "    <tr style=\"text-align: right;\">\n",
              "      <th></th>\n",
              "      <th>v1</th>\n",
              "      <th>v2</th>\n",
              "    </tr>\n",
              "  </thead>\n",
              "  <tbody>\n",
              "    <tr>\n",
              "      <th>0</th>\n",
              "      <td>ham</td>\n",
              "      <td>Go until jurong point, crazy.. Available only ...</td>\n",
              "    </tr>\n",
              "    <tr>\n",
              "      <th>1</th>\n",
              "      <td>ham</td>\n",
              "      <td>Ok lar... Joking wif u oni...</td>\n",
              "    </tr>\n",
              "  </tbody>\n",
              "</table>\n",
              "</div>"
            ],
            "text/plain": [
              "    v1                                                 v2\n",
              "0  ham  Go until jurong point, crazy.. Available only ...\n",
              "1  ham                      Ok lar... Joking wif u oni..."
            ]
          },
          "metadata": {
            "tags": []
          },
          "execution_count": 18
        }
      ]
    },
    {
      "cell_type": "code",
      "metadata": {
        "id": "_Lli1VlYAVm3"
      },
      "source": [
        "#Change the colums names\r\n",
        "data=data.rename(columns={\"v1\": \"labels\", \"v2\": \"text\"})"
      ],
      "execution_count": 19,
      "outputs": []
    },
    {
      "cell_type": "code",
      "metadata": {
        "colab": {
          "base_uri": "https://localhost:8080/"
        },
        "id": "af3_ukpoBMkh",
        "outputId": "b3a85025-7191-41d1-ce6a-48bac79f26ee"
      },
      "source": [
        "data.columns"
      ],
      "execution_count": 20,
      "outputs": [
        {
          "output_type": "execute_result",
          "data": {
            "text/plain": [
              "Index(['labels', 'text'], dtype='object')"
            ]
          },
          "metadata": {
            "tags": []
          },
          "execution_count": 20
        }
      ]
    },
    {
      "cell_type": "code",
      "metadata": {
        "colab": {
          "base_uri": "https://localhost:8080/",
          "height": 0
        },
        "id": "Tcbt7pDXBt7e",
        "outputId": "785e26a5-77d9-4869-cdcc-43d6bde945a2"
      },
      "source": [
        "data.head(2)"
      ],
      "execution_count": 21,
      "outputs": [
        {
          "output_type": "execute_result",
          "data": {
            "text/html": [
              "<div>\n",
              "<style scoped>\n",
              "    .dataframe tbody tr th:only-of-type {\n",
              "        vertical-align: middle;\n",
              "    }\n",
              "\n",
              "    .dataframe tbody tr th {\n",
              "        vertical-align: top;\n",
              "    }\n",
              "\n",
              "    .dataframe thead th {\n",
              "        text-align: right;\n",
              "    }\n",
              "</style>\n",
              "<table border=\"1\" class=\"dataframe\">\n",
              "  <thead>\n",
              "    <tr style=\"text-align: right;\">\n",
              "      <th></th>\n",
              "      <th>labels</th>\n",
              "      <th>text</th>\n",
              "    </tr>\n",
              "  </thead>\n",
              "  <tbody>\n",
              "    <tr>\n",
              "      <th>0</th>\n",
              "      <td>ham</td>\n",
              "      <td>Go until jurong point, crazy.. Available only ...</td>\n",
              "    </tr>\n",
              "    <tr>\n",
              "      <th>1</th>\n",
              "      <td>ham</td>\n",
              "      <td>Ok lar... Joking wif u oni...</td>\n",
              "    </tr>\n",
              "  </tbody>\n",
              "</table>\n",
              "</div>"
            ],
            "text/plain": [
              "  labels                                               text\n",
              "0    ham  Go until jurong point, crazy.. Available only ...\n",
              "1    ham                      Ok lar... Joking wif u oni..."
            ]
          },
          "metadata": {
            "tags": []
          },
          "execution_count": 21
        }
      ]
    },
    {
      "cell_type": "markdown",
      "metadata": {
        "id": "tl1HAMulDTG5"
      },
      "source": [
        "## Data Visualization"
      ]
    },
    {
      "cell_type": "markdown",
      "metadata": {
        "id": "VWCu4GR8d0KT"
      },
      "source": [
        "Exploratory Data Analysis (EDA)"
      ]
    },
    {
      "cell_type": "code",
      "metadata": {
        "id": "srmOo1mGrhdZ"
      },
      "source": [
        "ham_cnt=len(data[data['labels']=='ham'])\r\n",
        "spam_cnt=len(data[data['labels']=='spam'])\r\n",
        "spam_perc = spam_cnt*100/(ham_cnt+spam_cnt)"
      ],
      "execution_count": 22,
      "outputs": []
    },
    {
      "cell_type": "code",
      "metadata": {
        "colab": {
          "base_uri": "https://localhost:8080/",
          "height": 0
        },
        "id": "TdPj9b0pnXrL",
        "outputId": "29358689-54d6-429f-c3f0-80fa4e9a488e"
      },
      "source": [
        "sns.countplot(data['labels'])\r\n",
        "plt.xlabel('labels')\r\n",
        "plt.title('Number of ham and spam messages')\r\n",
        "plt.show()\r\n",
        "print()\r\n",
        "print(\"Number of ham messages {}\".format(ham_cnt))\r\n",
        "print(\"Number of spam messages: {}\".format(spam_cnt))\r\n",
        "print(\"Percentage of spam messages -----> {}\".format(spam_perc))"
      ],
      "execution_count": 23,
      "outputs": [
        {
          "output_type": "stream",
          "text": [
            "/usr/local/lib/python3.6/dist-packages/seaborn/_decorators.py:43: FutureWarning: Pass the following variable as a keyword arg: x. From version 0.12, the only valid positional argument will be `data`, and passing other arguments without an explicit keyword will result in an error or misinterpretation.\n",
            "  FutureWarning\n"
          ],
          "name": "stderr"
        },
        {
          "output_type": "display_data",
          "data": {
            "image/png": "[encoded data removed]",
            "text/plain": [
              "<Figure size 432x288 with 1 Axes>"
            ]
          },
          "metadata": {
            "tags": [],
            "needs_background": "light"
          }
        },
        {
          "output_type": "stream",
          "text": [
            "\n",
            "Number of ham messages 4825\n",
            "Number of spam messages: 747\n",
            "Percentage of spam messages -----> 13.406317300789663\n"
          ],
          "name": "stdout"
        }
      ]
    },
    {
      "cell_type": "markdown",
      "metadata": {
        "id": "WvUn3NvcsFaV"
      },
      "source": [
        "**13.4% of the SMS are labeld as SPAM**"
      ]
    },
    {
      "cell_type": "markdown",
      "metadata": {
        "id": "6q_RZN4fDW6e"
      },
      "source": [
        "## Data Preprocessing"
      ]
    },
    {
      "cell_type": "code",
      "metadata": {
        "id": "xzYg3AYIDZoU"
      },
      "source": [
        "#ps = PorterStemmer()\r\n",
        "lemmatizer = WordNetLemmatizer()\r\n",
        "corpus = []\r\n",
        "for i in range(0, len(data)):\r\n",
        "    review = re.sub('[^a-zA-Z]', ' ', data['text'][i])\r\n",
        "    review = review.lower()\r\n",
        "    review = review.split()\r\n",
        "    \r\n",
        "    review = [lemmatizer.lemmatize(word) for word in review if not word in stopwords.words('english')]\r\n",
        "    review = ' '.join(review)\r\n",
        "    corpus.append(review)\r\n",
        "    #data['processed_text'][i] = review"
      ],
      "execution_count": 24,
      "outputs": []
    },
    {
      "cell_type": "code",
      "metadata": {
        "id": "KTopUv-NJ7yH"
      },
      "source": [
        "data['processed_text'] = corpus"
      ],
      "execution_count": 25,
      "outputs": []
    },
    {
      "cell_type": "code",
      "metadata": {
        "colab": {
          "base_uri": "https://localhost:8080/",
          "height": 52
        },
        "id": "gJEzK6mGDaWV",
        "outputId": "cf1c66fe-3daa-4646-e87e-054106f88c0f"
      },
      "source": [
        "print(len(corpus))\r\n",
        "corpus[10]"
      ],
      "execution_count": 26,
      "outputs": [
        {
          "output_type": "stream",
          "text": [
            "5572\n"
          ],
          "name": "stdout"
        },
        {
          "output_type": "execute_result",
          "data": {
            "application/vnd.google.colaboratory.intrinsic+json": {
              "type": "string"
            },
            "text/plain": [
              "'gonna home soon want talk stuff anymore tonight k cried enough today'"
            ]
          },
          "metadata": {
            "tags": []
          },
          "execution_count": 26
        }
      ]
    },
    {
      "cell_type": "code",
      "metadata": {
        "id": "6DuETFBKRjh0"
      },
      "source": [
        "data['text_length'] = data['processed_text'].str.len()"
      ],
      "execution_count": 27,
      "outputs": []
    },
    {
      "cell_type": "code",
      "metadata": {
        "id": "UQZ6pSXFTzbv"
      },
      "source": [
        "data=data.drop('text',axis=1)"
      ],
      "execution_count": 29,
      "outputs": []
    },
    {
      "cell_type": "code",
      "metadata": {
        "colab": {
          "base_uri": "https://localhost:8080/"
        },
        "id": "tMICnFM4UAVy",
        "outputId": "c7f3a048-3fe8-4f9b-a68c-bda07e23bcfe"
      },
      "source": [
        "data.columns"
      ],
      "execution_count": 30,
      "outputs": [
        {
          "output_type": "execute_result",
          "data": {
            "text/plain": [
              "Index(['labels', 'processed_text', 'text_length'], dtype='object')"
            ]
          },
          "metadata": {
            "tags": []
          },
          "execution_count": 30
        }
      ]
    },
    {
      "cell_type": "code",
      "metadata": {
        "colab": {
          "base_uri": "https://localhost:8080/",
          "height": 204
        },
        "id": "cq6nzPIoTnY8",
        "outputId": "cb557b74-efa9-45bc-a8cc-9bb389d75301"
      },
      "source": [
        "data.head()"
      ],
      "execution_count": 31,
      "outputs": [
        {
          "output_type": "execute_result",
          "data": {
            "text/html": [
              "<div>\n",
              "<style scoped>\n",
              "    .dataframe tbody tr th:only-of-type {\n",
              "        vertical-align: middle;\n",
              "    }\n",
              "\n",
              "    .dataframe tbody tr th {\n",
              "        vertical-align: top;\n",
              "    }\n",
              "\n",
              "    .dataframe thead th {\n",
              "        text-align: right;\n",
              "    }\n",
              "</style>\n",
              "<table border=\"1\" class=\"dataframe\">\n",
              "  <thead>\n",
              "    <tr style=\"text-align: right;\">\n",
              "      <th></th>\n",
              "      <th>labels</th>\n",
              "      <th>processed_text</th>\n",
              "      <th>text_length</th>\n",
              "    </tr>\n",
              "  </thead>\n",
              "  <tbody>\n",
              "    <tr>\n",
              "      <th>0</th>\n",
              "      <td>ham</td>\n",
              "      <td>go jurong point crazy available bugis n great ...</td>\n",
              "      <td>82</td>\n",
              "    </tr>\n",
              "    <tr>\n",
              "      <th>1</th>\n",
              "      <td>ham</td>\n",
              "      <td>ok lar joking wif u oni</td>\n",
              "      <td>23</td>\n",
              "    </tr>\n",
              "    <tr>\n",
              "      <th>2</th>\n",
              "      <td>spam</td>\n",
              "      <td>free entry wkly comp win fa cup final tkts st ...</td>\n",
              "      <td>101</td>\n",
              "    </tr>\n",
              "    <tr>\n",
              "      <th>3</th>\n",
              "      <td>ham</td>\n",
              "      <td>u dun say early hor u c already say</td>\n",
              "      <td>35</td>\n",
              "    </tr>\n",
              "    <tr>\n",
              "      <th>4</th>\n",
              "      <td>ham</td>\n",
              "      <td>nah think go usf life around though</td>\n",
              "      <td>35</td>\n",
              "    </tr>\n",
              "  </tbody>\n",
              "</table>\n",
              "</div>"
            ],
            "text/plain": [
              "  labels                                     processed_text  text_length\n",
              "0    ham  go jurong point crazy available bugis n great ...           82\n",
              "1    ham                            ok lar joking wif u oni           23\n",
              "2   spam  free entry wkly comp win fa cup final tkts st ...          101\n",
              "3    ham                u dun say early hor u c already say           35\n",
              "4    ham                nah think go usf life around though           35"
            ]
          },
          "metadata": {
            "tags": []
          },
          "execution_count": 31
        }
      ]
    },
    {
      "cell_type": "code",
      "metadata": {
        "id": "va--2wqZ9N8o"
      },
      "source": [
        "y=pd.get_dummies(data['labels']) #Convert to HAM and SPAM to 0 and 1"
      ],
      "execution_count": 32,
      "outputs": []
    },
    {
      "cell_type": "code",
      "metadata": {
        "id": "uLJrgDfb9hp9"
      },
      "source": [
        "y=y['ham'].values #One column is enough for labels"
      ],
      "execution_count": 33,
      "outputs": []
    },
    {
      "cell_type": "code",
      "metadata": {
        "colab": {
          "base_uri": "https://localhost:8080/"
        },
        "id": "ukUK4MsEJktJ",
        "outputId": "453e77f6-2fc7-4c04-ae60-df06ffe58c36"
      },
      "source": [
        "#Check the shape of data and labels\r\n",
        "print(data.shape)\r\n",
        "print(y.shape)"
      ],
      "execution_count": 34,
      "outputs": [
        {
          "output_type": "stream",
          "text": [
            "(5572, 3)\n",
            "(5572,)\n"
          ],
          "name": "stdout"
        }
      ]
    },
    {
      "cell_type": "code",
      "metadata": {
        "id": "8X4YVWvQHVjq"
      },
      "source": [
        "#Data splitting\r\n",
        "X_train, X_test, y_train, y_test = train_test_split(data, y, test_size=0.2, random_state=0)"
      ],
      "execution_count": 35,
      "outputs": []
    },
    {
      "cell_type": "code",
      "metadata": {
        "id": "wrOZCO_TDaS-"
      },
      "source": [
        "# Creating the Bag of Words model\r\n",
        "from sklearn.feature_extraction.text import CountVectorizer\r\n",
        "cv = CountVectorizer(max_features=3000)\r\n",
        "X_train_bow = cv.fit_transform(X_train['processed_text']).toarray()"
      ],
      "execution_count": 36,
      "outputs": []
    },
    {
      "cell_type": "code",
      "metadata": {
        "colab": {
          "base_uri": "https://localhost:8080/"
        },
        "id": "lkVNEstoJ7OW",
        "outputId": "57a940f6-b28c-4f74-8971-2dfeff435472"
      },
      "source": [
        "X_train_bow.shape"
      ],
      "execution_count": 37,
      "outputs": [
        {
          "output_type": "execute_result",
          "data": {
            "text/plain": [
              "(4457, 3000)"
            ]
          },
          "metadata": {
            "tags": []
          },
          "execution_count": 37
        }
      ]
    },
    {
      "cell_type": "code",
      "metadata": {
        "id": "b-2SxNBAJ-ZX"
      },
      "source": [
        "X_test_bow=cv.transform(X_test['processed_text'])"
      ],
      "execution_count": 38,
      "outputs": []
    },
    {
      "cell_type": "code",
      "metadata": {
        "colab": {
          "base_uri": "https://localhost:8080/"
        },
        "id": "MFSroc4lKLdH",
        "outputId": "ac938dfc-66bb-4884-cb68-4f4cbca650ac"
      },
      "source": [
        "X_test_bow.shape"
      ],
      "execution_count": 39,
      "outputs": [
        {
          "output_type": "execute_result",
          "data": {
            "text/plain": [
              "(1115, 3000)"
            ]
          },
          "metadata": {
            "tags": []
          },
          "execution_count": 39
        }
      ]
    },
    {
      "cell_type": "code",
      "metadata": {
        "id": "nTiyq1ZeKTzt"
      },
      "source": [
        "pickle.dump(cv, open('countvectorizer.pkl','wb'))"
      ],
      "execution_count": null,
      "outputs": []
    },
    {
      "cell_type": "markdown",
      "metadata": {
        "id": "xqFTYDL1ENwe"
      },
      "source": [
        "## Pycaret for better understanding"
      ]
    },
    {
      "cell_type": "code",
      "metadata": {
        "colab": {
          "base_uri": "https://localhost:8080/",
          "height": 1000
        },
        "id": "tu-7hhzXEhmR",
        "outputId": "22689471-378a-45c9-e9ce-12766a22b262"
      },
      "source": [
        "pip install pycaret"
      ],
      "execution_count": 40,
      "outputs": [
        {
          "output_type": "stream",
          "text": [
            "Collecting pycaret\n",
            "\u001b[?25l  Downloading https://files.pythonhosted.org/packages/a2/7b/70e41d8aa900ed47e0e2ac6a8f5cbaf9e359efdf8ae10bf89502c14ce3ed/pycaret-2.2.3-py3-none-any.whl (249kB)\n",
            "\r\u001b[K     |█▎                              | 10kB 13.1MB/s eta 0:00:01\r\u001b[K     |██▋                             | 20kB 17.1MB/s eta 0:00:01\r\u001b[K     |████                            | 30kB 11.3MB/s eta 0:00:01\r\u001b[K     |█████▎                          | 40kB 9.5MB/s eta 0:00:01\r\u001b[K     |██████▌                         | 51kB 8.3MB/s eta 0:00:01\r\u001b[K     |███████▉                        | 61kB 7.6MB/s eta 0:00:01\r\u001b[K     |█████████▏                      | 71kB 8.0MB/s eta 0:00:01\r\u001b[K     |██████████▌                     | 81kB 8.8MB/s eta 0:00:01\r\u001b[K     |███████████▉                    | 92kB 8.0MB/s eta 0:00:01\r\u001b[K     |█████████████                   | 102kB 8.2MB/s eta 0:00:01\r\u001b[K     |██████████████▍                 | 112kB 8.2MB/s eta 0:00:01\r\u001b[K     |███████████████▊                | 122kB 8.2MB/s eta 0:00:01\r\u001b[K     |█████████████████               | 133kB 8.2MB/s eta 0:00:01\r\u001b[K     |██████████████████▍             | 143kB 8.2MB/s eta 0:00:01\r\u001b[K     |███████████████████▋            | 153kB 8.2MB/s eta 0:00:01\r\u001b[K     |█████████████████████           | 163kB 8.2MB/s eta 0:00:01\r\u001b[K     |██████████████████████▎         | 174kB 8.2MB/s eta 0:00:01\r\u001b[K     |███████████████████████▋        | 184kB 8.2MB/s eta 0:00:01\r\u001b[K     |█████████████████████████       | 194kB 8.2MB/s eta 0:00:01\r\u001b[K     |██████████████████████████▏     | 204kB 8.2MB/s eta 0:00:01\r\u001b[K     |███████████████████████████▌    | 215kB 8.2MB/s eta 0:00:01\r\u001b[K     |████████████████████████████▉   | 225kB 8.2MB/s eta 0:00:01\r\u001b[K     |██████████████████████████████▏ | 235kB 8.2MB/s eta 0:00:01\r\u001b[K     |███████████████████████████████▌| 245kB 8.2MB/s eta 0:00:01\r\u001b[K     |████████████████████████████████| 256kB 8.2MB/s \n",
            "\u001b[?25hRequirement already satisfied: seaborn in /usr/local/lib/python3.6/dist-packages (from pycaret) (0.11.1)\n",
            "Requirement already satisfied: cufflinks>=0.17.0 in /usr/local/lib/python3.6/dist-packages (from pycaret) (0.17.3)\n",
            "Requirement already satisfied: IPython in /usr/local/lib/python3.6/dist-packages (from pycaret) (5.5.0)\n",
            "Collecting yellowbrick>=1.0.1\n",
            "\u001b[?25l  Downloading https://files.pythonhosted.org/packages/b1/bb/57fd86c319a43666fe447bb1bc5af66fb0eb89dc4efc305a7544d50f52d6/yellowbrick-1.2.1-py3-none-any.whl (269kB)\n",
            "\u001b[K     |████████████████████████████████| 276kB 13.7MB/s \n",
            "\u001b[?25hCollecting pyLDAvis\n",
            "\u001b[?25l  Downloading https://files.pythonhosted.org/packages/a5/3a/af82e070a8a96e13217c8f362f9a73e82d61ac8fff3a2561946a97f96266/pyLDAvis-2.1.2.tar.gz (1.6MB)\n",
            "\u001b[K     |████████████████████████████████| 1.6MB 14.5MB/s \n",
            "\u001b[?25hRequirement already satisfied: mlxtend in /usr/local/lib/python3.6/dist-packages (from pycaret) (0.14.0)\n",
            "Requirement already satisfied: gensim in /usr/local/lib/python3.6/dist-packages (from pycaret) (3.6.0)\n",
            "Collecting catboost>=0.23.2\n",
            "\u001b[?25l  Downloading https://files.pythonhosted.org/packages/20/37/bc4e0ddc30c07a96482abf1de7ed1ca54e59bba2026a33bca6d2ef286e5b/catboost-0.24.4-cp36-none-manylinux1_x86_64.whl (65.7MB)\n",
            "\u001b[K     |████████████████████████████████| 65.8MB 137kB/s \n",
            "\u001b[?25hRequirement already satisfied: wordcloud in /usr/local/lib/python3.6/dist-packages (from pycaret) (1.5.0)\n",
            "Collecting pandas-profiling>=2.8.0\n",
            "\u001b[?25l  Downloading https://files.pythonhosted.org/packages/3d/8e/645ad7f304dd8d6d7181d22d4bd3d6356331c80c2944a25be3ebe617ec38/pandas_profiling-2.10.0-py2.py3-none-any.whl (239kB)\n",
            "\u001b[K     |████████████████████████████████| 245kB 43.0MB/s \n",
            "\u001b[?25hCollecting xgboost>=1.1.0\n",
            "\u001b[?25l  Downloading https://files.pythonhosted.org/packages/2e/57/bf5026701c384decd2b995eb39d86587a103ba4eb26f8a9b1811db0896d3/xgboost-1.3.3-py3-none-manylinux2010_x86_64.whl (157.5MB)\n",
            "\u001b[K     |████████████████████████████████| 157.5MB 84kB/s \n",
            "\u001b[?25hRequirement already satisfied: ipywidgets in /usr/local/lib/python3.6/dist-packages (from pycaret) (7.6.3)\n",
            "Requirement already satisfied: nltk in /usr/local/lib/python3.6/dist-packages (from pycaret) (3.2.5)\n",
            "Collecting imbalanced-learn>=0.7.0\n",
            "\u001b[?25l  Downloading https://files.pythonhosted.org/packages/c8/81/8db4d87b03b998fda7c6f835d807c9ae4e3b141f978597b8d7f31600be15/imbalanced_learn-0.7.0-py3-none-any.whl (167kB)\n",
            "\u001b[K     |████████████████████████████████| 174kB 40.7MB/s \n",
            "\u001b[?25hCollecting mlflow\n",
            "\u001b[?25l  Downloading https://files.pythonhosted.org/packages/4c/4d/a6a4460e214842377dbc43d3e83bf976d564f7976822a9351adde60af44b/mlflow-1.13.1-py3-none-any.whl (14.1MB)\n",
            "\u001b[K     |████████████████████████████████| 14.2MB 47.1MB/s \n",
            "\u001b[?25hCollecting lightgbm>=2.3.1\n",
            "\u001b[?25l  Downloading https://files.pythonhosted.org/packages/70/cd/2b7783e8c250f8191b72e9a0010e0429a799d3305c27764d7bf113dfd078/lightgbm-3.1.1-py2.py3-none-manylinux1_x86_64.whl (1.8MB)\n",
            "\u001b[K     |████████████████████████████████| 1.8MB 52.1MB/s \n",
            "\u001b[?25hCollecting pyod\n",
            "\u001b[?25l  Downloading https://files.pythonhosted.org/packages/ac/26/ae4f4143643d2d87fe4bbc356064dd95eed95227b879ba3ee6c4e4ee81ca/pyod-0.8.6.tar.gz (98kB)\n",
            "\u001b[K     |████████████████████████████████| 102kB 11.6MB/s \n",
            "\u001b[?25hCollecting kmodes>=0.10.1\n",
            "  Downloading https://files.pythonhosted.org/packages/b2/55/d8ec1ae1f7e1e202a8a4184c6852a3ee993b202b0459672c699d0ac18fc8/kmodes-0.10.2-py2.py3-none-any.whl\n",
            "Collecting scikit-learn==0.23.2\n",
            "\u001b[?25l  Downloading https://files.pythonhosted.org/packages/5c/a1/273def87037a7fb010512bbc5901c31cfddfca8080bc63b42b26e3cc55b3/scikit_learn-0.23.2-cp36-cp36m-manylinux1_x86_64.whl (6.8MB)\n",
            "\u001b[K     |████████████████████████████████| 6.8MB 44.0MB/s \n",
            "\u001b[?25hRequirement already satisfied: textblob in /usr/local/lib/python3.6/dist-packages (from pycaret) (0.15.3)\n",
            "Requirement already satisfied: numpy>=1.17 in /usr/local/lib/python3.6/dist-packages (from pycaret) (1.19.5)\n",
            "Requirement already satisfied: plotly>=4.4.1 in /usr/local/lib/python3.6/dist-packages (from pycaret) (4.4.1)\n",
            "Requirement already satisfied: matplotlib in /usr/local/lib/python3.6/dist-packages (from pycaret) (3.2.2)\n",
            "Requirement already satisfied: joblib in /usr/local/lib/python3.6/dist-packages (from pycaret) (1.0.0)\n",
            "Requirement already satisfied: umap-learn in /usr/local/lib/python3.6/dist-packages (from pycaret) (0.4.6)\n",
            "Collecting scikit-plot\n",
            "  Downloading https://files.pythonhosted.org/packages/7c/47/32520e259340c140a4ad27c1b97050dd3254fdc517b1d59974d47037510e/scikit_plot-0.3.7-py3-none-any.whl\n",
            "Requirement already satisfied: spacy in /usr/local/lib/python3.6/dist-packages (from pycaret) (2.2.4)\n",
            "Requirement already satisfied: pandas in /usr/local/lib/python3.6/dist-packages (from pycaret) (1.1.5)\n",
            "Requirement already satisfied: scipy>=1.0 in /usr/local/lib/python3.6/dist-packages (from seaborn->pycaret) (1.4.1)\n",
            "Requirement already satisfied: colorlover>=0.2.1 in /usr/local/lib/python3.6/dist-packages (from cufflinks>=0.17.0->pycaret) (0.3.0)\n",
            "Requirement already satisfied: six>=1.9.0 in /usr/local/lib/python3.6/dist-packages (from cufflinks>=0.17.0->pycaret) (1.15.0)\n",
            "Requirement already satisfied: setuptools>=34.4.1 in /usr/local/lib/python3.6/dist-packages (from cufflinks>=0.17.0->pycaret) (51.1.2)\n",
            "Requirement already satisfied: simplegeneric>0.8 in /usr/local/lib/python3.6/dist-packages (from IPython->pycaret) (0.8.1)\n",
            "Requirement already satisfied: decorator in /usr/local/lib/python3.6/dist-packages (from IPython->pycaret) (4.4.2)\n",
            "Requirement already satisfied: prompt-toolkit<2.0.0,>=1.0.4 in /usr/local/lib/python3.6/dist-packages (from IPython->pycaret) (1.0.18)\n",
            "Requirement already satisfied: pexpect; sys_platform != \"win32\" in /usr/local/lib/python3.6/dist-packages (from IPython->pycaret) (4.8.0)\n",
            "Requirement already satisfied: traitlets>=4.2 in /usr/local/lib/python3.6/dist-packages (from IPython->pycaret) (4.3.3)\n",
            "Requirement already satisfied: pygments in /usr/local/lib/python3.6/dist-packages (from IPython->pycaret) (2.6.1)\n",
            "Requirement already satisfied: pickleshare in /usr/local/lib/python3.6/dist-packages (from IPython->pycaret) (0.7.5)\n",
            "Requirement already satisfied: cycler>=0.10.0 in /usr/local/lib/python3.6/dist-packages (from yellowbrick>=1.0.1->pycaret) (0.10.0)\n",
            "Requirement already satisfied: wheel>=0.23.0 in /usr/local/lib/python3.6/dist-packages (from pyLDAvis->pycaret) (0.36.2)\n",
            "Requirement already satisfied: jinja2>=2.7.2 in /usr/local/lib/python3.6/dist-packages (from pyLDAvis->pycaret) (2.11.2)\n",
            "Requirement already satisfied: numexpr in /usr/local/lib/python3.6/dist-packages (from pyLDAvis->pycaret) (2.7.2)\n",
            "Requirement already satisfied: pytest in /usr/local/lib/python3.6/dist-packages (from pyLDAvis->pycaret) (3.6.4)\n",
            "Requirement already satisfied: future in /usr/local/lib/python3.6/dist-packages (from pyLDAvis->pycaret) (0.16.0)\n",
            "Collecting funcy\n",
            "  Downloading https://files.pythonhosted.org/packages/66/89/479de0afbbfb98d1c4b887936808764627300208bb771fcd823403645a36/funcy-1.15-py2.py3-none-any.whl\n",
            "Requirement already satisfied: smart-open>=1.2.1 in /usr/local/lib/python3.6/dist-packages (from gensim->pycaret) (4.1.0)\n",
            "Requirement already satisfied: graphviz in /usr/local/lib/python3.6/dist-packages (from catboost>=0.23.2->pycaret) (0.10.1)\n",
            "Requirement already satisfied: pillow in /usr/local/lib/python3.6/dist-packages (from wordcloud->pycaret) (7.0.0)\n",
            "Collecting htmlmin>=0.1.12\n",
            "  Downloading https://files.pythonhosted.org/packages/b3/e7/fcd59e12169de19f0131ff2812077f964c6b960e7c09804d30a7bf2ab461/htmlmin-0.1.12.tar.gz\n",
            "Collecting phik>=0.10.0\n",
            "\u001b[?25l  Downloading https://files.pythonhosted.org/packages/d9/27/d4197ed93c26d9eeedb7c73c0f24462a65c617807c3140e012950c35ccf9/phik-0.11.0.tar.gz (594kB)\n",
            "\u001b[K     |████████████████████████████████| 604kB 39.8MB/s \n",
            "\u001b[?25hCollecting visions[type_image_path]==0.6.0\n",
            "\u001b[?25l  Downloading https://files.pythonhosted.org/packages/98/30/b1e70bc55962239c4c3c9660e892be2d8247a882135a3035c10ff7f02cde/visions-0.6.0-py3-none-any.whl (75kB)\n",
            "\u001b[K     |████████████████████████████████| 81kB 7.4MB/s \n",
            "\u001b[?25hCollecting confuse>=1.0.0\n",
            "  Downloading https://files.pythonhosted.org/packages/6d/55/b4726d81e5d6509fa3441f770f8a9524612627dc1b2a7d6209d1d20083fe/confuse-1.4.0-py2.py3-none-any.whl\n",
            "Requirement already satisfied: attrs>=19.3.0 in /usr/local/lib/python3.6/dist-packages (from pandas-profiling>=2.8.0->pycaret) (20.3.0)\n",
            "Requirement already satisfied: missingno>=0.4.2 in /usr/local/lib/python3.6/dist-packages (from pandas-profiling>=2.8.0->pycaret) (0.4.2)\n",
            "Collecting tangled-up-in-unicode>=0.0.6\n",
            "\u001b[?25l  Downloading https://files.pythonhosted.org/packages/4a/e2/e588ab9298d4989ce7fdb2b97d18aac878d99dbdc379a4476a09d9271b68/tangled_up_in_unicode-0.0.6-py3-none-any.whl (3.1MB)\n",
            "\u001b[K     |████████████████████████████████| 3.1MB 26.0MB/s \n",
            "\u001b[?25hCollecting requests>=2.24.0\n",
            "\u001b[?25l  Downloading https://files.pythonhosted.org/packages/29/c1/24814557f1d22c56d50280771a17307e6bf87b70727d975fd6b2ce6b014a/requests-2.25.1-py2.py3-none-any.whl (61kB)\n",
            "\u001b[K     |████████████████████████████████| 61kB 6.3MB/s \n",
            "\u001b[?25hCollecting tqdm>=4.48.2\n",
            "\u001b[?25l  Downloading https://files.pythonhosted.org/packages/80/02/8f8880a4fd6625461833abcf679d4c12a44c76f9925f92bf212bb6cefaad/tqdm-4.56.0-py2.py3-none-any.whl (72kB)\n",
            "\u001b[K     |████████████████████████████████| 81kB 7.8MB/s \n",
            "\u001b[?25hRequirement already satisfied: nbformat>=4.2.0 in /usr/local/lib/python3.6/dist-packages (from ipywidgets->pycaret) (5.0.8)\n",
            "Requirement already satisfied: ipykernel>=4.5.1 in /usr/local/lib/python3.6/dist-packages (from ipywidgets->pycaret) (4.10.1)\n",
            "Requirement already satisfied: widgetsnbextension~=3.5.0 in /usr/local/lib/python3.6/dist-packages (from ipywidgets->pycaret) (3.5.1)\n",
            "Requirement already satisfied: jupyterlab-widgets>=1.0.0; python_version >= \"3.6\" in /usr/local/lib/python3.6/dist-packages (from ipywidgets->pycaret) (1.0.0)\n",
            "Requirement already satisfied: pyyaml in /usr/local/lib/python3.6/dist-packages (from mlflow->pycaret) (3.13)\n",
            "Collecting databricks-cli>=0.8.7\n",
            "\u001b[?25l  Downloading https://files.pythonhosted.org/packages/40/88/ae1f78cf582b707c605c77df49b4c8786a4465edc51adb25d2f98ef4c4de/databricks-cli-0.14.1.tar.gz (54kB)\n",
            "\u001b[K     |████████████████████████████████| 61kB 6.5MB/s \n",
            "\u001b[?25hCollecting prometheus-flask-exporter\n",
            "  Downloading https://files.pythonhosted.org/packages/4c/d5/8a046d683c2cc084b6a502812827ede69b1064f95d93f94b83f809b21723/prometheus_flask_exporter-0.18.1.tar.gz\n",
            "Collecting azure-storage-blob>=12.0.0\n",
            "\u001b[?25l  Downloading https://files.pythonhosted.org/packages/8e/00/6772472a99cd0a5e74e4e90f87947fa041b37981a3ff93d883cbc450518d/azure_storage_blob-12.7.1-py2.py3-none-any.whl (339kB)\n",
            "\u001b[K     |████████████████████████████████| 348kB 41.3MB/s \n",
            "\u001b[?25hRequirement already satisfied: sqlparse>=0.3.1 in /usr/local/lib/python3.6/dist-packages (from mlflow->pycaret) (0.4.1)\n",
            "Requirement already satisfied: entrypoints in /usr/local/lib/python3.6/dist-packages (from mlflow->pycaret) (0.3)\n",
            "Requirement already satisfied: python-dateutil in /usr/local/lib/python3.6/dist-packages (from mlflow->pycaret) (2.8.1)\n",
            "Collecting gunicorn; platform_system != \"Windows\"\n",
            "\u001b[?25l  Downloading https://files.pythonhosted.org/packages/69/ca/926f7cd3a2014b16870086b2d0fdc84a9e49473c68a8dff8b57f7c156f43/gunicorn-20.0.4-py2.py3-none-any.whl (77kB)\n",
            "\u001b[K     |████████████████████████████████| 81kB 6.4MB/s \n",
            "\u001b[?25hRequirement already satisfied: click>=7.0 in /usr/local/lib/python3.6/dist-packages (from mlflow->pycaret) (7.1.2)\n",
            "Collecting gitpython>=2.1.0\n",
            "\u001b[?25l  Downloading https://files.pythonhosted.org/packages/d7/cb/ec98155c501b68dcb11314c7992cd3df6dce193fd763084338a117967d53/GitPython-3.1.12-py3-none-any.whl (159kB)\n",
            "\u001b[K     |████████████████████████████████| 163kB 41.4MB/s \n",
            "\u001b[?25hCollecting alembic<=1.4.1\n",
            "\u001b[?25l  Downloading https://files.pythonhosted.org/packages/e0/e9/359dbb77c35c419df0aedeb1d53e71e7e3f438ff64a8fdb048c907404de3/alembic-1.4.1.tar.gz (1.1MB)\n",
            "\u001b[K     |████████████████████████████████| 1.1MB 41.2MB/s \n",
            "\u001b[?25hRequirement already satisfied: cloudpickle in /usr/local/lib/python3.6/dist-packages (from mlflow->pycaret) (1.3.0)\n",
            "Collecting querystring-parser\n",
            "  Downloading https://files.pythonhosted.org/packages/88/6b/572b2590fd55114118bf08bde63c0a421dcc82d593700f3e2ad89908a8a9/querystring_parser-1.2.4-py2.py3-none-any.whl\n",
            "Requirement already satisfied: Flask in /usr/local/lib/python3.6/dist-packages (from mlflow->pycaret) (1.1.2)\n",
            "Requirement already satisfied: sqlalchemy in /usr/local/lib/python3.6/dist-packages (from mlflow->pycaret) (1.3.22)\n",
            "Requirement already satisfied: protobuf>=3.6.0 in /usr/local/lib/python3.6/dist-packages (from mlflow->pycaret) (3.12.4)\n",
            "Collecting docker>=4.0.0\n",
            "\u001b[?25l  Downloading https://files.pythonhosted.org/packages/9f/a5/eec74d8d1016e6c2042ba31ca6fba3bba520e27d8a061e82bccd36bd64ef/docker-4.4.1-py2.py3-none-any.whl (146kB)\n",
            "\u001b[K     |████████████████████████████████| 153kB 42.4MB/s \n",
            "\u001b[?25hCollecting combo\n",
            "  Downloading https://files.pythonhosted.org/packages/12/ae/66029dcaa88ccca77f454dbb29c1178c751ec24fc771ed475a992b49a02d/combo-0.1.2.tar.gz\n",
            "Requirement already satisfied: numba>=0.35 in /usr/local/lib/python3.6/dist-packages (from pyod->pycaret) (0.48.0)\n",
            "Requirement already satisfied: statsmodels in /usr/local/lib/python3.6/dist-packages (from pyod->pycaret) (0.10.2)\n",
            "Collecting suod\n",
            "\u001b[?25l  Downloading https://files.pythonhosted.org/packages/4e/8a/255ed2c959abab7c712b10fe710e454d5a8e3461c6ae60e426349a8eb6a5/suod-0.0.6.tar.gz (2.1MB)\n",
            "\u001b[K     |████████████████████████████████| 2.1MB 36.2MB/s \n",
            "\u001b[?25hCollecting threadpoolctl>=2.0.0\n",
            "  Downloading https://files.pythonhosted.org/packages/f7/12/ec3f2e203afa394a149911729357aa48affc59c20e2c1c8297a60f33f133/threadpoolctl-2.1.0-py3-none-any.whl\n",
            "Requirement already satisfied: retrying>=1.3.3 in /usr/local/lib/python3.6/dist-packages (from plotly>=4.4.1->pycaret) (1.3.3)\n",
            "Requirement already satisfied: kiwisolver>=1.0.1 in /usr/local/lib/python3.6/dist-packages (from matplotlib->pycaret) (1.3.1)\n",
            "Requirement already satisfied: pyparsing!=2.0.4,!=2.1.2,!=2.1.6,>=2.0.1 in /usr/local/lib/python3.6/dist-packages (from matplotlib->pycaret) (2.4.7)\n",
            "Requirement already satisfied: preshed<3.1.0,>=3.0.2 in /usr/local/lib/python3.6/dist-packages (from spacy->pycaret) (3.0.5)\n",
            "Requirement already satisfied: wasabi<1.1.0,>=0.4.0 in /usr/local/lib/python3.6/dist-packages (from spacy->pycaret) (0.8.0)\n",
            "Requirement already satisfied: catalogue<1.1.0,>=0.0.7 in /usr/local/lib/python3.6/dist-packages (from spacy->pycaret) (1.0.0)\n",
            "Requirement already satisfied: murmurhash<1.1.0,>=0.28.0 in /usr/local/lib/python3.6/dist-packages (from spacy->pycaret) (1.0.5)\n",
            "Requirement already satisfied: srsly<1.1.0,>=1.0.2 in /usr/local/lib/python3.6/dist-packages (from spacy->pycaret) (1.0.5)\n",
            "Requirement already satisfied: plac<1.2.0,>=0.9.6 in /usr/local/lib/python3.6/dist-packages (from spacy->pycaret) (1.1.3)\n",
            "Requirement already satisfied: cymem<2.1.0,>=2.0.2 in /usr/local/lib/python3.6/dist-packages (from spacy->pycaret) (2.0.5)\n",
            "Requirement already satisfied: thinc==7.4.0 in /usr/local/lib/python3.6/dist-packages (from spacy->pycaret) (7.4.0)\n",
            "Requirement already satisfied: blis<0.5.0,>=0.4.0 in /usr/local/lib/python3.6/dist-packages (from spacy->pycaret) (0.4.1)\n",
            "Requirement already satisfied: pytz>=2017.2 in /usr/local/lib/python3.6/dist-packages (from pandas->pycaret) (2018.9)\n",
            "Requirement already satisfied: wcwidth in /usr/local/lib/python3.6/dist-packages (from prompt-toolkit<2.0.0,>=1.0.4->IPython->pycaret) (0.2.5)\n",
            "Requirement already satisfied: ptyprocess>=0.5 in /usr/local/lib/python3.6/dist-packages (from pexpect; sys_platform != \"win32\"->IPython->pycaret) (0.7.0)\n",
            "Requirement already satisfied: ipython-genutils in /usr/local/lib/python3.6/dist-packages (from traitlets>=4.2->IPython->pycaret) (0.2.0)\n",
            "Requirement already satisfied: MarkupSafe>=0.23 in /usr/local/lib/python3.6/dist-packages (from jinja2>=2.7.2->pyLDAvis->pycaret) (1.1.1)\n",
            "Requirement already satisfied: py>=1.5.0 in /usr/local/lib/python3.6/dist-packages (from pytest->pyLDAvis->pycaret) (1.10.0)\n",
            "Requirement already satisfied: more-itertools>=4.0.0 in /usr/local/lib/python3.6/dist-packages (from pytest->pyLDAvis->pycaret) (8.6.0)\n",
            "Requirement already satisfied: pluggy<0.8,>=0.5 in /usr/local/lib/python3.6/dist-packages (from pytest->pyLDAvis->pycaret) (0.7.1)\n",
            "Requirement already satisfied: atomicwrites>=1.0 in /usr/local/lib/python3.6/dist-packages (from pytest->pyLDAvis->pycaret) (1.4.0)\n",
            "Requirement already satisfied: networkx>=2.4 in /usr/local/lib/python3.6/dist-packages (from visions[type_image_path]==0.6.0->pandas-profiling>=2.8.0->pycaret) (2.5)\n",
            "Collecting imagehash; extra == \"type_image_path\"\n",
            "\u001b[?25l  Downloading https://files.pythonhosted.org/packages/8e/18/9dbb772b5ef73a3069c66bb5bf29b9fb4dd57af0d5790c781c3f559bcca6/ImageHash-4.2.0-py2.py3-none-any.whl (295kB)\n",
            "\u001b[K     |████████████████████████████████| 296kB 42.7MB/s \n",
            "\u001b[?25hRequirement already satisfied: chardet<5,>=3.0.2 in /usr/local/lib/python3.6/dist-packages (from requests>=2.24.0->pandas-profiling>=2.8.0->pycaret) (3.0.4)\n",
            "Requirement already satisfied: certifi>=2017.4.17 in /usr/local/lib/python3.6/dist-packages (from requests>=2.24.0->pandas-profiling>=2.8.0->pycaret) (2020.12.5)\n",
            "Requirement already satisfied: urllib3<1.27,>=1.21.1 in /usr/local/lib/python3.6/dist-packages (from requests>=2.24.0->pandas-profiling>=2.8.0->pycaret) (1.24.3)\n",
            "Requirement already satisfied: idna<3,>=2.5 in /usr/local/lib/python3.6/dist-packages (from requests>=2.24.0->pandas-profiling>=2.8.0->pycaret) (2.10)\n",
            "Requirement already satisfied: jupyter-core in /usr/local/lib/python3.6/dist-packages (from nbformat>=4.2.0->ipywidgets->pycaret) (4.7.0)\n",
            "Requirement already satisfied: jsonschema!=2.5.0,>=2.4 in /usr/local/lib/python3.6/dist-packages (from nbformat>=4.2.0->ipywidgets->pycaret) (2.6.0)\n",
            "Requirement already satisfied: jupyter-client in /usr/local/lib/python3.6/dist-packages (from ipykernel>=4.5.1->ipywidgets->pycaret) (5.3.5)\n",
            "Requirement already satisfied: tornado>=4.0 in /usr/local/lib/python3.6/dist-packages (from ipykernel>=4.5.1->ipywidgets->pycaret) (5.1.1)\n",
            "Requirement already satisfied: notebook>=4.4.1 in /usr/local/lib/python3.6/dist-packages (from widgetsnbextension~=3.5.0->ipywidgets->pycaret) (5.3.1)\n",
            "Requirement already satisfied: tabulate>=0.7.7 in /usr/local/lib/python3.6/dist-packages (from databricks-cli>=0.8.7->mlflow->pycaret) (0.8.7)\n",
            "Requirement already satisfied: prometheus_client in /usr/local/lib/python3.6/dist-packages (from prometheus-flask-exporter->mlflow->pycaret) (0.9.0)\n",
            "Collecting msrest>=0.6.18\n",
            "\u001b[?25l  Downloading https://files.pythonhosted.org/packages/fa/f5/9e315fe8cb985b0ce052b34bcb767883dc739f46fadb62f05a7e6d6eedbe/msrest-0.6.19-py2.py3-none-any.whl (84kB)\n",
            "\u001b[K     |████████████████████████████████| 92kB 9.7MB/s \n",
            "\u001b[?25hCollecting cryptography>=2.1.4\n",
            "\u001b[?25l  Downloading https://files.pythonhosted.org/packages/c9/de/7054df0620b5411ba45480f0261e1fb66a53f3db31b28e3aa52c026e72d9/cryptography-3.3.1-cp36-abi3-manylinux2010_x86_64.whl (2.6MB)\n",
            "\u001b[K     |████████████████████████████████| 2.6MB 40.3MB/s \n",
            "\u001b[?25hCollecting azure-core<2.0.0,>=1.10.0\n",
            "\u001b[?25l  Downloading https://files.pythonhosted.org/packages/12/9e/6bb67fe85f6a89d71f50c86a0da778a5064f749a485ed9ba498067034227/azure_core-1.10.0-py2.py3-none-any.whl (125kB)\n",
            "\u001b[K     |████████████████████████████████| 133kB 62.3MB/s \n",
            "\u001b[?25hCollecting gitdb<5,>=4.0.1\n",
            "\u001b[?25l  Downloading https://files.pythonhosted.org/packages/48/11/d1800bca0a3bae820b84b7d813ad1eff15a48a64caea9c823fc8c1b119e8/gitdb-4.0.5-py3-none-any.whl (63kB)\n",
            "\u001b[K     |████████████████████████████████| 71kB 6.5MB/s \n",
            "\u001b[?25hCollecting Mako\n",
            "\u001b[?25l  Downloading https://files.pythonhosted.org/packages/5c/db/2d2d88b924aa4674a080aae83b59ea19d593250bfe5ed789947c21736785/Mako-1.1.4.tar.gz (479kB)\n",
            "\u001b[K     |████████████████████████████████| 481kB 40.3MB/s \n",
            "\u001b[?25hCollecting python-editor>=0.3\n",
            "  Downloading https://files.pythonhosted.org/packages/c6/d3/201fc3abe391bbae6606e6f1d598c15d367033332bd54352b12f35513717/python_editor-1.0.4-py3-none-any.whl\n",
            "Requirement already satisfied: Werkzeug>=0.15 in /usr/local/lib/python3.6/dist-packages (from Flask->mlflow->pycaret) (1.0.1)\n",
            "Requirement already satisfied: itsdangerous>=0.24 in /usr/local/lib/python3.6/dist-packages (from Flask->mlflow->pycaret) (1.1.0)\n",
            "Collecting websocket-client>=0.32.0\n",
            "\u001b[?25l  Downloading https://files.pythonhosted.org/packages/4c/5f/f61b420143ed1c8dc69f9eaec5ff1ac36109d52c80de49d66e0c36c3dfdf/websocket_client-0.57.0-py2.py3-none-any.whl (200kB)\n",
            "\u001b[K     |████████████████████████████████| 204kB 47.5MB/s \n",
            "\u001b[?25hRequirement already satisfied: llvmlite<0.32.0,>=0.31.0dev0 in /usr/local/lib/python3.6/dist-packages (from numba>=0.35->pyod->pycaret) (0.31.0)\n",
            "Requirement already satisfied: patsy>=0.4.0 in /usr/local/lib/python3.6/dist-packages (from statsmodels->pyod->pycaret) (0.5.1)\n",
            "Requirement already satisfied: psutil in /usr/local/lib/python3.6/dist-packages (from suod->pyod->pycaret) (5.4.8)\n",
            "Requirement already satisfied: importlib-metadata>=0.20; python_version < \"3.8\" in /usr/local/lib/python3.6/dist-packages (from catalogue<1.1.0,>=0.0.7->spacy->pycaret) (3.3.0)\n",
            "Requirement already satisfied: PyWavelets in /usr/local/lib/python3.6/dist-packages (from imagehash; extra == \"type_image_path\"->visions[type_image_path]==0.6.0->pandas-profiling>=2.8.0->pycaret) (1.1.1)\n",
            "Requirement already satisfied: pyzmq>=13 in /usr/local/lib/python3.6/dist-packages (from jupyter-client->ipykernel>=4.5.1->ipywidgets->pycaret) (20.0.0)\n",
            "Requirement already satisfied: Send2Trash in /usr/local/lib/python3.6/dist-packages (from notebook>=4.4.1->widgetsnbextension~=3.5.0->ipywidgets->pycaret) (1.5.0)\n",
            "Requirement already satisfied: nbconvert in /usr/local/lib/python3.6/dist-packages (from notebook>=4.4.1->widgetsnbextension~=3.5.0->ipywidgets->pycaret) (5.6.1)\n",
            "Requirement already satisfied: terminado>=0.8.1 in /usr/local/lib/python3.6/dist-packages (from notebook>=4.4.1->widgetsnbextension~=3.5.0->ipywidgets->pycaret) (0.9.2)\n",
            "Requirement already satisfied: requests-oauthlib>=0.5.0 in /usr/local/lib/python3.6/dist-packages (from msrest>=0.6.18->azure-storage-blob>=12.0.0->mlflow->pycaret) (1.3.0)\n",
            "Collecting isodate>=0.6.0\n",
            "\u001b[?25l  Downloading https://files.pythonhosted.org/packages/9b/9f/b36f7774ff5ea8e428fdcfc4bb332c39ee5b9362ddd3d40d9516a55221b2/isodate-0.6.0-py2.py3-none-any.whl (45kB)\n",
            "\u001b[K     |████████████████████████████████| 51kB 5.7MB/s \n",
            "\u001b[?25hRequirement already satisfied: cffi>=1.12 in /usr/local/lib/python3.6/dist-packages (from cryptography>=2.1.4->azure-storage-blob>=12.0.0->mlflow->pycaret) (1.14.4)\n",
            "Collecting smmap<4,>=3.0.1\n",
            "  Downloading https://files.pythonhosted.org/packages/b0/9a/4d409a6234eb940e6a78dfdfc66156e7522262f5f2fecca07dc55915952d/smmap-3.0.4-py2.py3-none-any.whl\n",
            "Requirement already satisfied: zipp>=0.5 in /usr/local/lib/python3.6/dist-packages (from importlib-metadata>=0.20; python_version < \"3.8\"->catalogue<1.1.0,>=0.0.7->spacy->pycaret) (3.4.0)\n",
            "Requirement already satisfied: typing-extensions>=3.6.4; python_version < \"3.8\" in /usr/local/lib/python3.6/dist-packages (from importlib-metadata>=0.20; python_version < \"3.8\"->catalogue<1.1.0,>=0.0.7->spacy->pycaret) (3.7.4.3)\n",
            "Requirement already satisfied: bleach in /usr/local/lib/python3.6/dist-packages (from nbconvert->notebook>=4.4.1->widgetsnbextension~=3.5.0->ipywidgets->pycaret) (3.2.1)\n",
            "Requirement already satisfied: defusedxml in /usr/local/lib/python3.6/dist-packages (from nbconvert->notebook>=4.4.1->widgetsnbextension~=3.5.0->ipywidgets->pycaret) (0.6.0)\n",
            "Requirement already satisfied: pandocfilters>=1.4.1 in /usr/local/lib/python3.6/dist-packages (from nbconvert->notebook>=4.4.1->widgetsnbextension~=3.5.0->ipywidgets->pycaret) (1.4.3)\n",
            "Requirement already satisfied: mistune<2,>=0.8.1 in /usr/local/lib/python3.6/dist-packages (from nbconvert->notebook>=4.4.1->widgetsnbextension~=3.5.0->ipywidgets->pycaret) (0.8.4)\n",
            "Requirement already satisfied: testpath in /usr/local/lib/python3.6/dist-packages (from nbconvert->notebook>=4.4.1->widgetsnbextension~=3.5.0->ipywidgets->pycaret) (0.4.4)\n",
            "Requirement already satisfied: oauthlib>=3.0.0 in /usr/local/lib/python3.6/dist-packages (from requests-oauthlib>=0.5.0->msrest>=0.6.18->azure-storage-blob>=12.0.0->mlflow->pycaret) (3.1.0)\n",
            "Requirement already satisfied: pycparser in /usr/local/lib/python3.6/dist-packages (from cffi>=1.12->cryptography>=2.1.4->azure-storage-blob>=12.0.0->mlflow->pycaret) (2.20)\n",
            "Requirement already satisfied: packaging in /usr/local/lib/python3.6/dist-packages (from bleach->nbconvert->notebook>=4.4.1->widgetsnbextension~=3.5.0->ipywidgets->pycaret) (20.8)\n",
            "Requirement already satisfied: webencodings in /usr/local/lib/python3.6/dist-packages (from bleach->nbconvert->notebook>=4.4.1->widgetsnbextension~=3.5.0->ipywidgets->pycaret) (0.5.1)\n",
            "Building wheels for collected packages: pyLDAvis, pyod, htmlmin, phik, databricks-cli, prometheus-flask-exporter, alembic, combo, suod, Mako\n",
            "  Building wheel for pyLDAvis (setup.py) ... \u001b[?25l\u001b[?25hdone\n",
            "  Created wheel for pyLDAvis: filename=pyLDAvis-2.1.2-py2.py3-none-any.whl size=97712 sha256=eaed704f312ca200b3bcf160197e5397f248dabc248a76a6ce262e435f8fd35d\n",
            "  Stored in directory: /root/.cache/pip/wheels/98/71/24/513a99e58bb6b8465bae4d2d5e9dba8f0bef8179e3051ac414\n",
            "  Building wheel for pyod (setup.py) ... \u001b[?25l\u001b[?25hdone\n",
            "  Created wheel for pyod: filename=pyod-0.8.6-cp36-none-any.whl size=112146 sha256=73773391c10da40704ceb37cf40ac83f336dc1ca5055218e4062addf62e5025f\n",
            "  Stored in directory: /root/.cache/pip/wheels/48/95/81/2c6f52c3d366e7b5ef4770550f8bf0764257c66fbe64deecdb\n",
            "  Building wheel for htmlmin (setup.py) ... \u001b[?25l\u001b[?25hdone\n",
            "  Created wheel for htmlmin: filename=htmlmin-0.1.12-cp36-none-any.whl size=27085 sha256=2bbf3efcd3c646f0b017e674ff8bf02953f144427e74658be85c7e93d0b4fd60\n",
            "  Stored in directory: /root/.cache/pip/wheels/43/07/ac/7c5a9d708d65247ac1f94066cf1db075540b85716c30255459\n",
            "  Building wheel for phik (setup.py) ... \u001b[?25l\u001b[?25hdone\n",
            "  Created wheel for phik: filename=phik-0.11.0-cp36-none-any.whl size=599738 sha256=a547a284ab24bd8b09a0baf35ba75d5c9befb10339e6f1b6fc552cd5f941dd93\n",
            "  Stored in directory: /root/.cache/pip/wheels/af/54/11/aba77f21075918de02f7964eabfe8c10d5542df9e6ad10b225\n",
            "  Building wheel for databricks-cli (setup.py) ... \u001b[?25l\u001b[?25hdone\n",
            "  Created wheel for databricks-cli: filename=databricks_cli-0.14.1-cp36-none-any.whl size=100579 sha256=45e00b3e88557ab618a2a67728d2ade3e4125a1822c33da65592eb9d007bf3e5\n",
            "  Stored in directory: /root/.cache/pip/wheels/82/91/ac/5d417ee5ccbb76c8cca096cf4cfb9ed9d49d889d1d1ca0fc39\n",
            "  Building wheel for prometheus-flask-exporter (setup.py) ... \u001b[?25l\u001b[?25hdone\n",
            "  Created wheel for prometheus-flask-exporter: filename=prometheus_flask_exporter-0.18.1-cp36-none-any.whl size=17159 sha256=c7fe3da0f4ff569c9b6c1c9ee8dbdc056aa3e8751f5f37ed97902c58c23e6ab8\n",
            "  Stored in directory: /root/.cache/pip/wheels/b4/1f/b8/66bd9bc3a9d6c6987ff6c4dfeb6f1fe97b5a0e5ed5849c0437\n",
            "  Building wheel for alembic (setup.py) ... \u001b[?25l\u001b[?25hdone\n",
            "  Created wheel for alembic: filename=alembic-1.4.1-py2.py3-none-any.whl size=158155 sha256=1a2bc2b374cc203bc40558fdceac3742576f9a39a175d89268fe378f0f17dab2\n",
            "  Stored in directory: /root/.cache/pip/wheels/84/07/f7/12f7370ca47a66030c2edeedcc23dec26ea0ac22dcb4c4a0f3\n",
            "  Building wheel for combo (setup.py) ... \u001b[?25l\u001b[?25hdone\n",
            "  Created wheel for combo: filename=combo-0.1.2-cp36-none-any.whl size=42028 sha256=fba72be09d990b91efcbd1c7557bbeb91afc3fe96e6ba4f3222b11be0c4158dc\n",
            "  Stored in directory: /root/.cache/pip/wheels/01/d9/bf/d1a371a5f0844cd8a53c04c14daa89974c93f429dda9dceb86\n",
            "  Building wheel for suod (setup.py) ... \u001b[?25l\u001b[?25hdone\n",
            "  Created wheel for suod: filename=suod-0.0.6-cp36-none-any.whl size=2154759 sha256=3c26b400a64acc330b468065fe056fd23c322924d5321034c2ddd11d4cb8b621\n",
            "  Stored in directory: /root/.cache/pip/wheels/c5/d7/c1/6c778aee7fccfe3c054ea9bab92c5994ae3a0f6bba7078541e\n",
            "  Building wheel for Mako (setup.py) ... \u001b[?25l\u001b[?25hdone\n",
            "  Created wheel for Mako: filename=Mako-1.1.4-py2.py3-none-any.whl size=75675 sha256=50e38140038d7a9d7cd8e05e2af2bbe0e49c2a6d29f4c6cd0382ae753c22661a\n",
            "  Stored in directory: /root/.cache/pip/wheels/ad/10/d3/aeb26e20d19045e2a68e5d3cbb57432e11b5d9c92c99f98d47\n",
            "Successfully built pyLDAvis pyod htmlmin phik databricks-cli prometheus-flask-exporter alembic combo suod Mako\n",
            "\u001b[31mERROR: google-colab 1.0.0 has requirement requests~=2.23.0, but you'll have requests 2.25.1 which is incompatible.\u001b[0m\n",
            "\u001b[31mERROR: datascience 0.10.6 has requirement folium==0.2.1, but you'll have folium 0.8.3 which is incompatible.\u001b[0m\n",
            "Installing collected packages: threadpoolctl, scikit-learn, yellowbrick, funcy, pyLDAvis, catboost, htmlmin, phik, tangled-up-in-unicode, imagehash, visions, confuse, requests, tqdm, pandas-profiling, xgboost, imbalanced-learn, databricks-cli, prometheus-flask-exporter, isodate, msrest, cryptography, azure-core, azure-storage-blob, gunicorn, smmap, gitdb, gitpython, Mako, python-editor, alembic, querystring-parser, websocket-client, docker, mlflow, lightgbm, combo, suod, pyod, kmodes, scikit-plot, pycaret\n",
            "  Found existing installation: scikit-learn 0.22.2.post1\n",
            "    Uninstalling scikit-learn-0.22.2.post1:\n",
            "      Successfully uninstalled scikit-learn-0.22.2.post1\n",
            "  Found existing installation: yellowbrick 0.9.1\n",
            "    Uninstalling yellowbrick-0.9.1:\n",
            "      Successfully uninstalled yellowbrick-0.9.1\n",
            "  Found existing installation: requests 2.23.0\n",
            "    Uninstalling requests-2.23.0:\n",
            "      Successfully uninstalled requests-2.23.0\n",
            "  Found existing installation: tqdm 4.41.1\n",
            "    Uninstalling tqdm-4.41.1:\n",
            "      Successfully uninstalled tqdm-4.41.1\n",
            "  Found existing installation: pandas-profiling 1.4.1\n",
            "    Uninstalling pandas-profiling-1.4.1:\n",
            "      Successfully uninstalled pandas-profiling-1.4.1\n",
            "  Found existing installation: xgboost 0.90\n",
            "    Uninstalling xgboost-0.90:\n",
            "      Successfully uninstalled xgboost-0.90\n",
            "  Found existing installation: imbalanced-learn 0.4.3\n",
            "    Uninstalling imbalanced-learn-0.4.3:\n",
            "      Successfully uninstalled imbalanced-learn-0.4.3\n",
            "  Found existing installation: lightgbm 2.2.3\n",
            "    Uninstalling lightgbm-2.2.3:\n",
            "      Successfully uninstalled lightgbm-2.2.3\n",
            "Successfully installed Mako-1.1.4 alembic-1.4.1 azure-core-1.10.0 azure-storage-blob-12.7.1 catboost-0.24.4 combo-0.1.2 confuse-1.4.0 cryptography-3.3.1 databricks-cli-0.14.1 docker-4.4.1 funcy-1.15 gitdb-4.0.5 gitpython-3.1.12 gunicorn-20.0.4 htmlmin-0.1.12 imagehash-4.2.0 imbalanced-learn-0.7.0 isodate-0.6.0 kmodes-0.10.2 lightgbm-3.1.1 mlflow-1.13.1 msrest-0.6.19 pandas-profiling-2.10.0 phik-0.11.0 prometheus-flask-exporter-0.18.1 pyLDAvis-2.1.2 pycaret-2.2.3 pyod-0.8.6 python-editor-1.0.4 querystring-parser-1.2.4 requests-2.25.1 scikit-learn-0.23.2 scikit-plot-0.3.7 smmap-3.0.4 suod-0.0.6 tangled-up-in-unicode-0.0.6 threadpoolctl-2.1.0 tqdm-4.56.0 visions-0.6.0 websocket-client-0.57.0 xgboost-1.3.3 yellowbrick-1.2.1\n"
          ],
          "name": "stdout"
        },
        {
          "output_type": "display_data",
          "data": {
            "application/vnd.colab-display-data+json": {
              "pip_warning": {
                "packages": [
                  "requests",
                  "sklearn",
                  "tqdm"
                ]
              }
            }
          },
          "metadata": {
            "tags": []
          }
        }
      ]
    },
    {
      "cell_type": "code",
      "metadata": {
        "colab": {
          "base_uri": "https://localhost:8080/",
          "height": 35
        },
        "id": "jHMJ_QeTEiHh",
        "outputId": "f63c9258-2bfe-4f43-a608-59c172401a6d"
      },
      "source": [
        "# check version\r\n",
        "from pycaret.utils import version\r\n",
        "version()"
      ],
      "execution_count": null,
      "outputs": [
        {
          "output_type": "execute_result",
          "data": {
            "application/vnd.google.colaboratory.intrinsic+json": {
              "type": "string"
            },
            "text/plain": [
              "'2.2.3'"
            ]
          },
          "metadata": {
            "tags": []
          },
          "execution_count": 2
        }
      ]
    },
    {
      "cell_type": "code",
      "metadata": {
        "colab": {
          "base_uri": "https://localhost:8080/",
          "height": 1000,
          "referenced_widgets": [
            "e3e0f984874b41b18094a181d3aaa2c6",
            "01978fac56b643fd9fffa2cd64ba8502",
            "3e507b8291cc4152b163515adf2f3a14",
            "76f643a5c26d4120b219d76c512b4def",
            "ea03a2d7d1fa465190068fc905abf598",
            "1e4a0780b83a4ef482c5eefa4b59e67f"
          ]
        },
        "id": "3Fh17lrtbRLW",
        "outputId": "332dddf2-9db3-4899-ca2d-c83310616284"
      },
      "source": [
        "from pycaret.classification import *\r\n",
        "exp1 = setup(data, target='labels')"
      ],
      "execution_count": null,
      "outputs": [
        {
          "output_type": "display_data",
          "data": {
            "text/html": [
              "<div>\n",
              "<style scoped>\n",
              "    .dataframe tbody tr th:only-of-type {\n",
              "        vertical-align: middle;\n",
              "    }\n",
              "\n",
              "    .dataframe tbody tr th {\n",
              "        vertical-align: top;\n",
              "    }\n",
              "\n",
              "    .dataframe thead th {\n",
              "        text-align: right;\n",
              "    }\n",
              "</style>\n",
              "<table border=\"1\" class=\"dataframe\">\n",
              "  <thead>\n",
              "    <tr style=\"text-align: right;\">\n",
              "      <th></th>\n",
              "      <th>Description</th>\n",
              "      <th>Value</th>\n",
              "    </tr>\n",
              "  </thead>\n",
              "  <tbody>\n",
              "    <tr>\n",
              "      <th>0</th>\n",
              "      <td>session_id</td>\n",
              "      <td>4537</td>\n",
              "    </tr>\n",
              "    <tr>\n",
              "      <th>1</th>\n",
              "      <td>Target</td>\n",
              "      <td>labels</td>\n",
              "    </tr>\n",
              "    <tr>\n",
              "      <th>2</th>\n",
              "      <td>Target Type</td>\n",
              "      <td>Binary</td>\n",
              "    </tr>\n",
              "    <tr>\n",
              "      <th>3</th>\n",
              "      <td>Label Encoded</td>\n",
              "      <td>ham: 0, spam: 1</td>\n",
              "    </tr>\n",
              "    <tr>\n",
              "      <th>4</th>\n",
              "      <td>Original Data</td>\n",
              "      <td>(5572, 3)</td>\n",
              "    </tr>\n",
              "    <tr>\n",
              "      <th>5</th>\n",
              "      <td>Missing Values</td>\n",
              "      <td>False</td>\n",
              "    </tr>\n",
              "    <tr>\n",
              "      <th>6</th>\n",
              "      <td>Numeric Features</td>\n",
              "      <td>1</td>\n",
              "    </tr>\n",
              "    <tr>\n",
              "      <th>7</th>\n",
              "      <td>Categorical Features</td>\n",
              "      <td>1</td>\n",
              "    </tr>\n",
              "    <tr>\n",
              "      <th>8</th>\n",
              "      <td>Ordinal Features</td>\n",
              "      <td>False</td>\n",
              "    </tr>\n",
              "    <tr>\n",
              "      <th>9</th>\n",
              "      <td>High Cardinality Features</td>\n",
              "      <td>False</td>\n",
              "    </tr>\n",
              "    <tr>\n",
              "      <th>10</th>\n",
              "      <td>High Cardinality Method</td>\n",
              "      <td>None</td>\n",
              "    </tr>\n",
              "    <tr>\n",
              "      <th>11</th>\n",
              "      <td>Transformed Train Set</td>\n",
              "      <td>(3900, 3608)</td>\n",
              "    </tr>\n",
              "    <tr>\n",
              "      <th>12</th>\n",
              "      <td>Transformed Test Set</td>\n",
              "      <td>(1672, 3608)</td>\n",
              "    </tr>\n",
              "    <tr>\n",
              "      <th>13</th>\n",
              "      <td>Shuffle Train-Test</td>\n",
              "      <td>True</td>\n",
              "    </tr>\n",
              "    <tr>\n",
              "      <th>14</th>\n",
              "      <td>Stratify Train-Test</td>\n",
              "      <td>False</td>\n",
              "    </tr>\n",
              "    <tr>\n",
              "      <th>15</th>\n",
              "      <td>Fold Generator</td>\n",
              "      <td>StratifiedKFold</td>\n",
              "    </tr>\n",
              "    <tr>\n",
              "      <th>16</th>\n",
              "      <td>Fold Number</td>\n",
              "      <td>10</td>\n",
              "    </tr>\n",
              "    <tr>\n",
              "      <th>17</th>\n",
              "      <td>CPU Jobs</td>\n",
              "      <td>-1</td>\n",
              "    </tr>\n",
              "    <tr>\n",
              "      <th>18</th>\n",
              "      <td>Use GPU</td>\n",
              "      <td>False</td>\n",
              "    </tr>\n",
              "    <tr>\n",
              "      <th>19</th>\n",
              "      <td>Log Experiment</td>\n",
              "      <td>False</td>\n",
              "    </tr>\n",
              "    <tr>\n",
              "      <th>20</th>\n",
              "      <td>Experiment Name</td>\n",
              "      <td>clf-default-name</td>\n",
              "    </tr>\n",
              "    <tr>\n",
              "      <th>21</th>\n",
              "      <td>USI</td>\n",
              "      <td>1316</td>\n",
              "    </tr>\n",
              "    <tr>\n",
              "      <th>22</th>\n",
              "      <td>Imputation Type</td>\n",
              "      <td>simple</td>\n",
              "    </tr>\n",
              "    <tr>\n",
              "      <th>23</th>\n",
              "      <td>Iterative Imputation Iteration</td>\n",
              "      <td>None</td>\n",
              "    </tr>\n",
              "    <tr>\n",
              "      <th>24</th>\n",
              "      <td>Numeric Imputer</td>\n",
              "      <td>mean</td>\n",
              "    </tr>\n",
              "    <tr>\n",
              "      <th>25</th>\n",
              "      <td>Iterative Imputation Numeric Model</td>\n",
              "      <td>None</td>\n",
              "    </tr>\n",
              "    <tr>\n",
              "      <th>26</th>\n",
              "      <td>Categorical Imputer</td>\n",
              "      <td>constant</td>\n",
              "    </tr>\n",
              "    <tr>\n",
              "      <th>27</th>\n",
              "      <td>Iterative Imputation Categorical Model</td>\n",
              "      <td>None</td>\n",
              "    </tr>\n",
              "    <tr>\n",
              "      <th>28</th>\n",
              "      <td>Unknown Categoricals Handling</td>\n",
              "      <td>least_frequent</td>\n",
              "    </tr>\n",
              "    <tr>\n",
              "      <th>29</th>\n",
              "      <td>Normalize</td>\n",
              "      <td>False</td>\n",
              "    </tr>\n",
              "    <tr>\n",
              "      <th>30</th>\n",
              "      <td>Normalize Method</td>\n",
              "      <td>None</td>\n",
              "    </tr>\n",
              "    <tr>\n",
              "      <th>31</th>\n",
              "      <td>Transformation</td>\n",
              "      <td>False</td>\n",
              "    </tr>\n",
              "    <tr>\n",
              "      <th>32</th>\n",
              "      <td>Transformation Method</td>\n",
              "      <td>None</td>\n",
              "    </tr>\n",
              "    <tr>\n",
              "      <th>33</th>\n",
              "      <td>PCA</td>\n",
              "      <td>False</td>\n",
              "    </tr>\n",
              "    <tr>\n",
              "      <th>34</th>\n",
              "      <td>PCA Method</td>\n",
              "      <td>None</td>\n",
              "    </tr>\n",
              "    <tr>\n",
              "      <th>35</th>\n",
              "      <td>PCA Components</td>\n",
              "      <td>None</td>\n",
              "    </tr>\n",
              "    <tr>\n",
              "      <th>36</th>\n",
              "      <td>Ignore Low Variance</td>\n",
              "      <td>False</td>\n",
              "    </tr>\n",
              "    <tr>\n",
              "      <th>37</th>\n",
              "      <td>Combine Rare Levels</td>\n",
              "      <td>False</td>\n",
              "    </tr>\n",
              "    <tr>\n",
              "      <th>38</th>\n",
              "      <td>Rare Level Threshold</td>\n",
              "      <td>None</td>\n",
              "    </tr>\n",
              "    <tr>\n",
              "      <th>39</th>\n",
              "      <td>Numeric Binning</td>\n",
              "      <td>False</td>\n",
              "    </tr>\n",
              "    <tr>\n",
              "      <th>40</th>\n",
              "      <td>Remove Outliers</td>\n",
              "      <td>False</td>\n",
              "    </tr>\n",
              "    <tr>\n",
              "      <th>41</th>\n",
              "      <td>Outliers Threshold</td>\n",
              "      <td>None</td>\n",
              "    </tr>\n",
              "    <tr>\n",
              "      <th>42</th>\n",
              "      <td>Remove Multicollinearity</td>\n",
              "      <td>False</td>\n",
              "    </tr>\n",
              "    <tr>\n",
              "      <th>43</th>\n",
              "      <td>Multicollinearity Threshold</td>\n",
              "      <td>None</td>\n",
              "    </tr>\n",
              "    <tr>\n",
              "      <th>44</th>\n",
              "      <td>Clustering</td>\n",
              "      <td>False</td>\n",
              "    </tr>\n",
              "    <tr>\n",
              "      <th>45</th>\n",
              "      <td>Clustering Iteration</td>\n",
              "      <td>None</td>\n",
              "    </tr>\n",
              "    <tr>\n",
              "      <th>46</th>\n",
              "      <td>Polynomial Features</td>\n",
              "      <td>False</td>\n",
              "    </tr>\n",
              "    <tr>\n",
              "      <th>47</th>\n",
              "      <td>Polynomial Degree</td>\n",
              "      <td>None</td>\n",
              "    </tr>\n",
              "    <tr>\n",
              "      <th>48</th>\n",
              "      <td>Trignometry Features</td>\n",
              "      <td>False</td>\n",
              "    </tr>\n",
              "    <tr>\n",
              "      <th>49</th>\n",
              "      <td>Polynomial Threshold</td>\n",
              "      <td>None</td>\n",
              "    </tr>\n",
              "    <tr>\n",
              "      <th>50</th>\n",
              "      <td>Group Features</td>\n",
              "      <td>False</td>\n",
              "    </tr>\n",
              "    <tr>\n",
              "      <th>51</th>\n",
              "      <td>Feature Selection</td>\n",
              "      <td>False</td>\n",
              "    </tr>\n",
              "    <tr>\n",
              "      <th>52</th>\n",
              "      <td>Features Selection Threshold</td>\n",
              "      <td>None</td>\n",
              "    </tr>\n",
              "    <tr>\n",
              "      <th>53</th>\n",
              "      <td>Feature Interaction</td>\n",
              "      <td>False</td>\n",
              "    </tr>\n",
              "    <tr>\n",
              "      <th>54</th>\n",
              "      <td>Feature Ratio</td>\n",
              "      <td>False</td>\n",
              "    </tr>\n",
              "    <tr>\n",
              "      <th>55</th>\n",
              "      <td>Interaction Threshold</td>\n",
              "      <td>None</td>\n",
              "    </tr>\n",
              "    <tr>\n",
              "      <th>56</th>\n",
              "      <td>Fix Imbalance</td>\n",
              "      <td>False</td>\n",
              "    </tr>\n",
              "    <tr>\n",
              "      <th>57</th>\n",
              "      <td>Fix Imbalance Method</td>\n",
              "      <td>SMOTE</td>\n",
              "    </tr>\n",
              "  </tbody>\n",
              "</table>\n",
              "</div>"
            ],
            "text/plain": [
              "                               Description             Value\n",
              "0                               session_id              4537\n",
              "1                                   Target            labels\n",
              "2                              Target Type            Binary\n",
              "3                            Label Encoded   ham: 0, spam: 1\n",
              "4                            Original Data         (5572, 3)\n",
              "5                           Missing Values             False\n",
              "6                         Numeric Features                 1\n",
              "7                     Categorical Features                 1\n",
              "8                         Ordinal Features             False\n",
              "9                High Cardinality Features             False\n",
              "10                 High Cardinality Method              None\n",
              "11                   Transformed Train Set      (3900, 3608)\n",
              "12                    Transformed Test Set      (1672, 3608)\n",
              "13                      Shuffle Train-Test              True\n",
              "14                     Stratify Train-Test             False\n",
              "15                          Fold Generator   StratifiedKFold\n",
              "16                             Fold Number                10\n",
              "17                                CPU Jobs                -1\n",
              "18                                 Use GPU             False\n",
              "19                          Log Experiment             False\n",
              "20                         Experiment Name  clf-default-name\n",
              "21                                     USI              1316\n",
              "22                         Imputation Type            simple\n",
              "23          Iterative Imputation Iteration              None\n",
              "24                         Numeric Imputer              mean\n",
              "25      Iterative Imputation Numeric Model              None\n",
              "26                     Categorical Imputer          constant\n",
              "27  Iterative Imputation Categorical Model              None\n",
              "28           Unknown Categoricals Handling    least_frequent\n",
              "29                               Normalize             False\n",
              "30                        Normalize Method              None\n",
              "31                          Transformation             False\n",
              "32                   Transformation Method              None\n",
              "33                                     PCA             False\n",
              "34                              PCA Method              None\n",
              "35                          PCA Components              None\n",
              "36                     Ignore Low Variance             False\n",
              "37                     Combine Rare Levels             False\n",
              "38                    Rare Level Threshold              None\n",
              "39                         Numeric Binning             False\n",
              "40                         Remove Outliers             False\n",
              "41                      Outliers Threshold              None\n",
              "42                Remove Multicollinearity             False\n",
              "43             Multicollinearity Threshold              None\n",
              "44                              Clustering             False\n",
              "45                    Clustering Iteration              None\n",
              "46                     Polynomial Features             False\n",
              "47                       Polynomial Degree              None\n",
              "48                    Trignometry Features             False\n",
              "49                    Polynomial Threshold              None\n",
              "50                          Group Features             False\n",
              "51                       Feature Selection             False\n",
              "52            Features Selection Threshold              None\n",
              "53                     Feature Interaction             False\n",
              "54                           Feature Ratio             False\n",
              "55                   Interaction Threshold              None\n",
              "56                           Fix Imbalance             False\n",
              "57                    Fix Imbalance Method             SMOTE"
            ]
          },
          "metadata": {
            "tags": []
          }
        }
      ]
    },
    {
      "cell_type": "code",
      "metadata": {
        "colab": {
          "base_uri": "https://localhost:8080/",
          "height": 650,
          "referenced_widgets": [
            "522fae0f04e14a6087dd072dc0b517a1",
            "a6c69bdad2624007af0bd5ff28435782",
            "beac73464d48402da822b54a8429a357"
          ]
        },
        "id": "jC-ZBB3YbRJq",
        "outputId": "d4822e6f-b990-47ee-bace-6b5530c89360"
      },
      "source": [
        "compare_models()"
      ],
      "execution_count": null,
      "outputs": [
        {
          "output_type": "display_data",
          "data": {
            "text/html": [
              "<div>\n",
              "<style scoped>\n",
              "    .dataframe tbody tr th:only-of-type {\n",
              "        vertical-align: middle;\n",
              "    }\n",
              "\n",
              "    .dataframe tbody tr th {\n",
              "        vertical-align: top;\n",
              "    }\n",
              "\n",
              "    .dataframe thead th {\n",
              "        text-align: right;\n",
              "    }\n",
              "</style>\n",
              "<table border=\"1\" class=\"dataframe\">\n",
              "  <thead>\n",
              "    <tr style=\"text-align: right;\">\n",
              "      <th></th>\n",
              "      <th>Model</th>\n",
              "      <th>Accuracy</th>\n",
              "      <th>AUC</th>\n",
              "      <th>Recall</th>\n",
              "      <th>Prec.</th>\n",
              "      <th>F1</th>\n",
              "      <th>Kappa</th>\n",
              "      <th>MCC</th>\n",
              "      <th>TT (Sec)</th>\n",
              "    </tr>\n",
              "  </thead>\n",
              "  <tbody>\n",
              "    <tr>\n",
              "      <th>rf</th>\n",
              "      <td>Random Forest Classifier</td>\n",
              "      <td>0.9077</td>\n",
              "      <td>0.8960</td>\n",
              "      <td>0.3333</td>\n",
              "      <td>1.0000</td>\n",
              "      <td>0.4957</td>\n",
              "      <td>0.4595</td>\n",
              "      <td>0.5459</td>\n",
              "      <td>8.291</td>\n",
              "    </tr>\n",
              "    <tr>\n",
              "      <th>et</th>\n",
              "      <td>Extra Trees Classifier</td>\n",
              "      <td>0.9077</td>\n",
              "      <td>0.8682</td>\n",
              "      <td>0.3333</td>\n",
              "      <td>1.0000</td>\n",
              "      <td>0.4957</td>\n",
              "      <td>0.4595</td>\n",
              "      <td>0.5459</td>\n",
              "      <td>20.115</td>\n",
              "    </tr>\n",
              "    <tr>\n",
              "      <th>ridge</th>\n",
              "      <td>Ridge Classifier</td>\n",
              "      <td>0.8949</td>\n",
              "      <td>0.0000</td>\n",
              "      <td>0.3296</td>\n",
              "      <td>0.7903</td>\n",
              "      <td>0.4622</td>\n",
              "      <td>0.4152</td>\n",
              "      <td>0.4655</td>\n",
              "      <td>2.674</td>\n",
              "    </tr>\n",
              "    <tr>\n",
              "      <th>dt</th>\n",
              "      <td>Decision Tree Classifier</td>\n",
              "      <td>0.8946</td>\n",
              "      <td>0.7166</td>\n",
              "      <td>0.4704</td>\n",
              "      <td>0.6981</td>\n",
              "      <td>0.5475</td>\n",
              "      <td>0.4918</td>\n",
              "      <td>0.5114</td>\n",
              "      <td>0.987</td>\n",
              "    </tr>\n",
              "    <tr>\n",
              "      <th>knn</th>\n",
              "      <td>K Neighbors Classifier</td>\n",
              "      <td>0.8738</td>\n",
              "      <td>0.8589</td>\n",
              "      <td>0.4833</td>\n",
              "      <td>0.5546</td>\n",
              "      <td>0.5110</td>\n",
              "      <td>0.4397</td>\n",
              "      <td>0.4442</td>\n",
              "      <td>2.360</td>\n",
              "    </tr>\n",
              "    <tr>\n",
              "      <th>gbc</th>\n",
              "      <td>Gradient Boosting Classifier</td>\n",
              "      <td>0.8690</td>\n",
              "      <td>0.8938</td>\n",
              "      <td>0.0667</td>\n",
              "      <td>0.9533</td>\n",
              "      <td>0.1203</td>\n",
              "      <td>0.1034</td>\n",
              "      <td>0.2192</td>\n",
              "      <td>13.542</td>\n",
              "    </tr>\n",
              "    <tr>\n",
              "      <th>catboost</th>\n",
              "      <td>CatBoost Classifier</td>\n",
              "      <td>0.8682</td>\n",
              "      <td>0.9004</td>\n",
              "      <td>0.0593</td>\n",
              "      <td>0.9026</td>\n",
              "      <td>0.1064</td>\n",
              "      <td>0.0915</td>\n",
              "      <td>0.1941</td>\n",
              "      <td>14.970</td>\n",
              "    </tr>\n",
              "    <tr>\n",
              "      <th>ada</th>\n",
              "      <td>Ada Boost Classifier</td>\n",
              "      <td>0.8623</td>\n",
              "      <td>0.8890</td>\n",
              "      <td>0.2148</td>\n",
              "      <td>0.6157</td>\n",
              "      <td>0.2385</td>\n",
              "      <td>0.1977</td>\n",
              "      <td>0.2466</td>\n",
              "      <td>3.911</td>\n",
              "    </tr>\n",
              "    <tr>\n",
              "      <th>xgboost</th>\n",
              "      <td>Extreme Gradient Boosting</td>\n",
              "      <td>0.8567</td>\n",
              "      <td>0.8788</td>\n",
              "      <td>0.3611</td>\n",
              "      <td>0.4764</td>\n",
              "      <td>0.4058</td>\n",
              "      <td>0.3272</td>\n",
              "      <td>0.3336</td>\n",
              "      <td>42.145</td>\n",
              "    </tr>\n",
              "    <tr>\n",
              "      <th>lr</th>\n",
              "      <td>Logistic Regression</td>\n",
              "      <td>0.8518</td>\n",
              "      <td>0.8955</td>\n",
              "      <td>0.0556</td>\n",
              "      <td>0.3337</td>\n",
              "      <td>0.0923</td>\n",
              "      <td>0.0533</td>\n",
              "      <td>0.0809</td>\n",
              "      <td>2.612</td>\n",
              "    </tr>\n",
              "    <tr>\n",
              "      <th>svm</th>\n",
              "      <td>SVM - Linear Kernel</td>\n",
              "      <td>0.8349</td>\n",
              "      <td>0.0000</td>\n",
              "      <td>0.4259</td>\n",
              "      <td>0.3553</td>\n",
              "      <td>0.3706</td>\n",
              "      <td>0.2873</td>\n",
              "      <td>0.2981</td>\n",
              "      <td>1.764</td>\n",
              "    </tr>\n",
              "    <tr>\n",
              "      <th>lda</th>\n",
              "      <td>Linear Discriminant Analysis</td>\n",
              "      <td>0.5136</td>\n",
              "      <td>0.5027</td>\n",
              "      <td>0.0000</td>\n",
              "      <td>0.0000</td>\n",
              "      <td>0.0000</td>\n",
              "      <td>-0.0064</td>\n",
              "      <td>-0.0174</td>\n",
              "      <td>39.914</td>\n",
              "    </tr>\n",
              "    <tr>\n",
              "      <th>nb</th>\n",
              "      <td>Naive Bayes</td>\n",
              "      <td>0.2136</td>\n",
              "      <td>0.5436</td>\n",
              "      <td>1.0000</td>\n",
              "      <td>0.1497</td>\n",
              "      <td>0.2605</td>\n",
              "      <td>0.0258</td>\n",
              "      <td>0.1139</td>\n",
              "      <td>0.285</td>\n",
              "    </tr>\n",
              "    <tr>\n",
              "      <th>qda</th>\n",
              "      <td>Quadratic Discriminant Analysis</td>\n",
              "      <td>0.1503</td>\n",
              "      <td>0.0568</td>\n",
              "      <td>1.0000</td>\n",
              "      <td>0.1403</td>\n",
              "      <td>0.2461</td>\n",
              "      <td>0.0042</td>\n",
              "      <td>0.0147</td>\n",
              "      <td>33.509</td>\n",
              "    </tr>\n",
              "    <tr>\n",
              "      <th>lightgbm</th>\n",
              "      <td>Light Gradient Boosting Machine</td>\n",
              "      <td>0.0000</td>\n",
              "      <td>0.0000</td>\n",
              "      <td>0.0000</td>\n",
              "      <td>0.0000</td>\n",
              "      <td>0.0000</td>\n",
              "      <td>0.0000</td>\n",
              "      <td>0.0000</td>\n",
              "      <td>0.239</td>\n",
              "    </tr>\n",
              "  </tbody>\n",
              "</table>\n",
              "</div>"
            ],
            "text/plain": [
              "                                    Model  Accuracy     AUC  Recall   Prec.  \\\n",
              "rf               Random Forest Classifier    0.9077  0.8960  0.3333  1.0000   \n",
              "et                 Extra Trees Classifier    0.9077  0.8682  0.3333  1.0000   \n",
              "ridge                    Ridge Classifier    0.8949  0.0000  0.3296  0.7903   \n",
              "dt               Decision Tree Classifier    0.8946  0.7166  0.4704  0.6981   \n",
              "knn                K Neighbors Classifier    0.8738  0.8589  0.4833  0.5546   \n",
              "gbc          Gradient Boosting Classifier    0.8690  0.8938  0.0667  0.9533   \n",
              "catboost              CatBoost Classifier    0.8682  0.9004  0.0593  0.9026   \n",
              "ada                  Ada Boost Classifier    0.8623  0.8890  0.2148  0.6157   \n",
              "xgboost         Extreme Gradient Boosting    0.8567  0.8788  0.3611  0.4764   \n",
              "lr                    Logistic Regression    0.8518  0.8955  0.0556  0.3337   \n",
              "svm                   SVM - Linear Kernel    0.8349  0.0000  0.4259  0.3553   \n",
              "lda          Linear Discriminant Analysis    0.5136  0.5027  0.0000  0.0000   \n",
              "nb                            Naive Bayes    0.2136  0.5436  1.0000  0.1497   \n",
              "qda       Quadratic Discriminant Analysis    0.1503  0.0568  1.0000  0.1403   \n",
              "lightgbm  Light Gradient Boosting Machine    0.0000  0.0000  0.0000  0.0000   \n",
              "\n",
              "              F1   Kappa     MCC  TT (Sec)  \n",
              "rf        0.4957  0.4595  0.5459     8.291  \n",
              "et        0.4957  0.4595  0.5459    20.115  \n",
              "ridge     0.4622  0.4152  0.4655     2.674  \n",
              "dt        0.5475  0.4918  0.5114     0.987  \n",
              "knn       0.5110  0.4397  0.4442     2.360  \n",
              "gbc       0.1203  0.1034  0.2192    13.542  \n",
              "catboost  0.1064  0.0915  0.1941    14.970  \n",
              "ada       0.2385  0.1977  0.2466     3.911  \n",
              "xgboost   0.4058  0.3272  0.3336    42.145  \n",
              "lr        0.0923  0.0533  0.0809     2.612  \n",
              "svm       0.3706  0.2873  0.2981     1.764  \n",
              "lda       0.0000 -0.0064 -0.0174    39.914  \n",
              "nb        0.2605  0.0258  0.1139     0.285  \n",
              "qda       0.2461  0.0042  0.0147    33.509  \n",
              "lightgbm  0.0000  0.0000  0.0000     0.239  "
            ]
          },
          "metadata": {
            "tags": []
          }
        },
        {
          "output_type": "execute_result",
          "data": {
            "text/plain": [
              "RandomForestClassifier(bootstrap=True, ccp_alpha=0.0, class_weight=None,\n",
              "                       criterion='gini', max_depth=None, max_features='auto',\n",
              "                       max_leaf_nodes=None, max_samples=None,\n",
              "                       min_impurity_decrease=0.0, min_impurity_split=None,\n",
              "                       min_samples_leaf=1, min_samples_split=2,\n",
              "                       min_weight_fraction_leaf=0.0, n_estimators=100,\n",
              "                       n_jobs=-1, oob_score=False, random_state=4537, verbose=0,\n",
              "                       warm_start=False)"
            ]
          },
          "metadata": {
            "tags": []
          },
          "execution_count": 64
        }
      ]
    },
    {
      "cell_type": "code",
      "metadata": {
        "colab": {
          "base_uri": "https://localhost:8080/",
          "height": 421,
          "referenced_widgets": [
            "73881e504305488ba88c4f1ace2a7953",
            "2926b9a2da2b44b6a66e4e12efbf4575",
            "8e1a7064dfc5443abf6016f5a4f80ca2"
          ]
        },
        "id": "XmvDWbT0bRH_",
        "outputId": "45884f15-f459-49c4-8212-16884e418f37"
      },
      "source": [
        "rf =create_model('rf')"
      ],
      "execution_count": null,
      "outputs": [
        {
          "output_type": "display_data",
          "data": {
            "text/html": [
              "<div>\n",
              "<style scoped>\n",
              "    .dataframe tbody tr th:only-of-type {\n",
              "        vertical-align: middle;\n",
              "    }\n",
              "\n",
              "    .dataframe tbody tr th {\n",
              "        vertical-align: top;\n",
              "    }\n",
              "\n",
              "    .dataframe thead th {\n",
              "        text-align: right;\n",
              "    }\n",
              "</style>\n",
              "<table border=\"1\" class=\"dataframe\">\n",
              "  <thead>\n",
              "    <tr style=\"text-align: right;\">\n",
              "      <th></th>\n",
              "      <th>Accuracy</th>\n",
              "      <th>AUC</th>\n",
              "      <th>Recall</th>\n",
              "      <th>Prec.</th>\n",
              "      <th>F1</th>\n",
              "      <th>Kappa</th>\n",
              "      <th>MCC</th>\n",
              "    </tr>\n",
              "  </thead>\n",
              "  <tbody>\n",
              "    <tr>\n",
              "      <th>0</th>\n",
              "      <td>0.9051</td>\n",
              "      <td>0.9271</td>\n",
              "      <td>0.3148</td>\n",
              "      <td>1.0</td>\n",
              "      <td>0.4789</td>\n",
              "      <td>0.4419</td>\n",
              "      <td>0.5325</td>\n",
              "    </tr>\n",
              "    <tr>\n",
              "      <th>1</th>\n",
              "      <td>0.9256</td>\n",
              "      <td>0.9301</td>\n",
              "      <td>0.4630</td>\n",
              "      <td>1.0</td>\n",
              "      <td>0.6329</td>\n",
              "      <td>0.5977</td>\n",
              "      <td>0.6528</td>\n",
              "    </tr>\n",
              "    <tr>\n",
              "      <th>2</th>\n",
              "      <td>0.9205</td>\n",
              "      <td>0.9261</td>\n",
              "      <td>0.4259</td>\n",
              "      <td>1.0</td>\n",
              "      <td>0.5974</td>\n",
              "      <td>0.5611</td>\n",
              "      <td>0.6245</td>\n",
              "    </tr>\n",
              "    <tr>\n",
              "      <th>3</th>\n",
              "      <td>0.9077</td>\n",
              "      <td>0.9049</td>\n",
              "      <td>0.3333</td>\n",
              "      <td>1.0</td>\n",
              "      <td>0.5000</td>\n",
              "      <td>0.4628</td>\n",
              "      <td>0.5487</td>\n",
              "    </tr>\n",
              "    <tr>\n",
              "      <th>4</th>\n",
              "      <td>0.9179</td>\n",
              "      <td>0.9108</td>\n",
              "      <td>0.4074</td>\n",
              "      <td>1.0</td>\n",
              "      <td>0.5789</td>\n",
              "      <td>0.5423</td>\n",
              "      <td>0.6099</td>\n",
              "    </tr>\n",
              "    <tr>\n",
              "      <th>5</th>\n",
              "      <td>0.8949</td>\n",
              "      <td>0.8786</td>\n",
              "      <td>0.2407</td>\n",
              "      <td>1.0</td>\n",
              "      <td>0.3881</td>\n",
              "      <td>0.3533</td>\n",
              "      <td>0.4632</td>\n",
              "    </tr>\n",
              "    <tr>\n",
              "      <th>6</th>\n",
              "      <td>0.9051</td>\n",
              "      <td>0.8862</td>\n",
              "      <td>0.3148</td>\n",
              "      <td>1.0</td>\n",
              "      <td>0.4789</td>\n",
              "      <td>0.4419</td>\n",
              "      <td>0.5325</td>\n",
              "    </tr>\n",
              "    <tr>\n",
              "      <th>7</th>\n",
              "      <td>0.9051</td>\n",
              "      <td>0.8906</td>\n",
              "      <td>0.3148</td>\n",
              "      <td>1.0</td>\n",
              "      <td>0.4789</td>\n",
              "      <td>0.4419</td>\n",
              "      <td>0.5325</td>\n",
              "    </tr>\n",
              "    <tr>\n",
              "      <th>8</th>\n",
              "      <td>0.8974</td>\n",
              "      <td>0.8762</td>\n",
              "      <td>0.2593</td>\n",
              "      <td>1.0</td>\n",
              "      <td>0.4118</td>\n",
              "      <td>0.3762</td>\n",
              "      <td>0.4813</td>\n",
              "    </tr>\n",
              "    <tr>\n",
              "      <th>9</th>\n",
              "      <td>0.8974</td>\n",
              "      <td>0.8296</td>\n",
              "      <td>0.2593</td>\n",
              "      <td>1.0</td>\n",
              "      <td>0.4118</td>\n",
              "      <td>0.3762</td>\n",
              "      <td>0.4813</td>\n",
              "    </tr>\n",
              "    <tr>\n",
              "      <th>Mean</th>\n",
              "      <td>0.9077</td>\n",
              "      <td>0.8960</td>\n",
              "      <td>0.3333</td>\n",
              "      <td>1.0</td>\n",
              "      <td>0.4957</td>\n",
              "      <td>0.4595</td>\n",
              "      <td>0.5459</td>\n",
              "    </tr>\n",
              "    <tr>\n",
              "      <th>SD</th>\n",
              "      <td>0.0099</td>\n",
              "      <td>0.0292</td>\n",
              "      <td>0.0717</td>\n",
              "      <td>0.0</td>\n",
              "      <td>0.0791</td>\n",
              "      <td>0.0790</td>\n",
              "      <td>0.0612</td>\n",
              "    </tr>\n",
              "  </tbody>\n",
              "</table>\n",
              "</div>"
            ],
            "text/plain": [
              "      Accuracy     AUC  Recall  Prec.      F1   Kappa     MCC\n",
              "0       0.9051  0.9271  0.3148    1.0  0.4789  0.4419  0.5325\n",
              "1       0.9256  0.9301  0.4630    1.0  0.6329  0.5977  0.6528\n",
              "2       0.9205  0.9261  0.4259    1.0  0.5974  0.5611  0.6245\n",
              "3       0.9077  0.9049  0.3333    1.0  0.5000  0.4628  0.5487\n",
              "4       0.9179  0.9108  0.4074    1.0  0.5789  0.5423  0.6099\n",
              "5       0.8949  0.8786  0.2407    1.0  0.3881  0.3533  0.4632\n",
              "6       0.9051  0.8862  0.3148    1.0  0.4789  0.4419  0.5325\n",
              "7       0.9051  0.8906  0.3148    1.0  0.4789  0.4419  0.5325\n",
              "8       0.8974  0.8762  0.2593    1.0  0.4118  0.3762  0.4813\n",
              "9       0.8974  0.8296  0.2593    1.0  0.4118  0.3762  0.4813\n",
              "Mean    0.9077  0.8960  0.3333    1.0  0.4957  0.4595  0.5459\n",
              "SD      0.0099  0.0292  0.0717    0.0  0.0791  0.0790  0.0612"
            ]
          },
          "metadata": {
            "tags": []
          }
        }
      ]
    },
    {
      "cell_type": "code",
      "metadata": {
        "colab": {
          "base_uri": "https://localhost:8080/",
          "height": 496,
          "referenced_widgets": [
            "b6c9d9618e0b4a7aa4643445b1405681",
            "fa2b3319389348cabd3eae03b584fc14",
            "bc7a0b3c094a4d1db70a79c122adf430",
            "dce6e68ba68e44e3b0de65b400cd404b",
            "c15a4393c4e14651a5be107d0da172be",
            "381e4281156f49b1b997a5a979d1f418",
            "c0cce79e4b5841d6b053aa41875f1a64",
            "5441aee92e9f44b48f8c33497a63c071",
            "bac8eb6a88f6438a819becc653903e72",
            "bd9570b68ed64051a1146a98439ee996",
            "bca0a10818f049e1abc2fc3f7853ef90",
            "6dca77f29f5a4efd9b96a079a6d616db",
            "54b18087804649ae9bf75e35d26b2de4",
            "d215c65207ef4b7e816c60ac8db1e622",
            "42603e85b6104a2a8de3d1822440b723",
            "ddb73c55cb934554afa9d4a71820d4f6"
          ]
        },
        "id": "veH56AvBbQ06",
        "outputId": "8e3353a4-2517-48aa-f73f-66791711d516"
      },
      "source": [
        "evaluate_model(rf)"
      ],
      "execution_count": null,
      "outputs": [
        {
          "output_type": "display_data",
          "data": {
            "application/vnd.jupyter.widget-view+json": {
              "model_id": "b6c9d9618e0b4a7aa4643445b1405681",
              "version_minor": 0,
              "version_major": 2
            },
            "text/plain": [
              "interactive(children=(ToggleButtons(description='Plot Type:', icons=('',), options=(('Hyperparameters', 'param…"
            ]
          },
          "metadata": {
            "tags": []
          }
        }
      ]
    },
    {
      "cell_type": "code",
      "metadata": {
        "id": "ocqPmXazbQxY"
      },
      "source": [
        ""
      ],
      "execution_count": null,
      "outputs": []
    },
    {
      "cell_type": "markdown",
      "metadata": {
        "id": "YEcm0bisDbZ6"
      },
      "source": [
        "## Models"
      ]
    },
    {
      "cell_type": "code",
      "metadata": {
        "id": "5BqMbOEXDgbo"
      },
      "source": [
        "mul_nb = MultinomialNB().fit(X_train_bow, y_train)"
      ],
      "execution_count": 42,
      "outputs": []
    },
    {
      "cell_type": "code",
      "metadata": {
        "id": "FpBf-dUkDhCv"
      },
      "source": [
        "y_pred_nb=mul_nb.predict(X_test_bow)"
      ],
      "execution_count": 43,
      "outputs": []
    },
    {
      "cell_type": "code",
      "metadata": {
        "colab": {
          "base_uri": "https://localhost:8080/"
        },
        "id": "giqd_bzCDg_Z",
        "outputId": "211f5cba-af05-4e87-d545-4efbd0e6ff33"
      },
      "source": [
        "confusion_matrix(y_pred_nb, y_test)"
      ],
      "execution_count": 44,
      "outputs": [
        {
          "output_type": "execute_result",
          "data": {
            "text/plain": [
              "array([[157,   8],\n",
              "       [  9, 941]])"
            ]
          },
          "metadata": {
            "tags": []
          },
          "execution_count": 44
        }
      ]
    },
    {
      "cell_type": "code",
      "metadata": {
        "colab": {
          "base_uri": "https://localhost:8080/"
        },
        "id": "WgVcNKCiDg9J",
        "outputId": "e284315b-d27c-4ad0-f15d-b92be0b0db27"
      },
      "source": [
        "accuracy_nb=accuracy_score(y_pred_nb, y_test)\r\n",
        "accuracy_nb"
      ],
      "execution_count": 45,
      "outputs": [
        {
          "output_type": "execute_result",
          "data": {
            "text/plain": [
              "0.9847533632286996"
            ]
          },
          "metadata": {
            "tags": []
          },
          "execution_count": 45
        }
      ]
    },
    {
      "cell_type": "markdown",
      "metadata": {
        "id": "-RKAPAkVtI16"
      },
      "source": [
        "As we got 98.5% accuracy using Multinomial Naive Bayes model and keeping the time constraint in mind, not comparing with the deep learning models (CNN, LSTM, BERT etc)\r\n",
        "\r\n"
      ]
    },
    {
      "cell_type": "markdown",
      "metadata": {
        "id": "CINhNA8uDiDJ"
      },
      "source": [
        "## Conclusion"
      ]
    },
    {
      "cell_type": "markdown",
      "metadata": {
        "id": "u0EdnlOjUlC7"
      },
      "source": [
        "There are multiple options to choose the best model. I prefer to run pycaret as it gives basic idea on how the ML models are performing on the given dataset. There are mulitple options available in pycaret, I just did simple analysis. We can also run few set of models based on the understanding of the data. Usually Naive Bayes/probablistic approach works better OR gives better accuracies for the text classification problems and it is proved as per my experience and the community. Hence used MultinomianalNB for the better results. \r\n",
        "\r\n",
        "Also, Deep Learning (CNN, LSTMs, BERT etc) proved with better accuracies compared with the standard ML models. However, I've not tried any DL models here as per the time constraint as there are other activities to work on as per this assignment."
      ]
    },
    {
      "cell_type": "markdown",
      "metadata": {
        "id": "UlbfBOZ3Dos-"
      },
      "source": [
        "## Save the model"
      ]
    },
    {
      "cell_type": "code",
      "metadata": {
        "id": "EQyCafRFWc4d"
      },
      "source": [
        "# Saving model to disk\r\n",
        "import pickle\r\n",
        "pickle.dump(mul_nb_bow, open('model.pkl','wb'))"
      ],
      "execution_count": null,
      "outputs": []
    },
    {
      "cell_type": "code",
      "metadata": {
        "id": "8YbV0ukZDqKh",
        "colab": {
          "base_uri": "https://localhost:8080/"
        },
        "outputId": "1f6b4049-f6b0-4705-f045-2dc865f17642"
      },
      "source": [
        "print(\"The time taken to run this notebook: \", datetime.now()-start_datetime)"
      ],
      "execution_count": 46,
      "outputs": [
        {
          "output_type": "stream",
          "text": [
            "The time taken to run this notebook:  0:16:09.590450\n"
          ],
          "name": "stdout"
        }
      ]
    },
    {
      "cell_type": "code",
      "metadata": {
        "id": "oh4gaqPaDqnd"
      },
      "source": [
        ""
      ],
      "execution_count": null,
      "outputs": []
    },
    {
      "cell_type": "code",
      "metadata": {
        "id": "yKDfVUBvDqkG"
      },
      "source": [
        ""
      ],
      "execution_count": null,
      "outputs": []
    }
  ]
}